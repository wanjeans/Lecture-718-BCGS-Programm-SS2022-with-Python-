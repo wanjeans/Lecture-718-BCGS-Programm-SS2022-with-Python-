{
 "cells": [
  {
   "cell_type": "markdown",
   "metadata": {},
   "source": [
    "# Functions in Python\n",
    "Functions help to avoid **code repitition** and to build libraries.\n",
    "\n",
    "The syntax of a Python function is:\n",
    "\n",
    "```\n",
    "def func(arguments):\n",
    "    \"\"\" The docstring appears in help messages\"\"\"\n",
    "    # execute function commands\n",
    "    \n",
    "    return value(s)\n",
    "```\n",
    "\n",
    "**Notes:**\n",
    "- Note the colon after the function definition!\n",
    "- The function code is within an idented block!\n",
    "- Get into the habbit to *always* write docstrings! I will explain more about it when we talk about modules.\n",
    "- A function can have an arbitrary amount of (positional) arguments and also *default (or keyword) arguments*.\n",
    "- A function can have an arbitrary number of return values!\n",
    "- As usual for Python variables, function arguments  do not have information on the type!\n",
    "- All the parameters and variables that are defined in a function are local to a function, meaning that these variables cannot be *seen* by code outside of the function (functions have an own, local *namespace*). Note also that the scope of a variable within a function is from the point it is created (either in the parameter list or in the body via an assignment operation) to the end of the function.\n",
    "- A function that returns *no value* (a procedure) implicitely returns the special value **None**"
   ]
  },
  {
   "cell_type": "markdown",
   "metadata": {},
   "source": [
    "## Some simple examples"
   ]
  },
  {
   "cell_type": "markdown",
   "metadata": {},
   "source": [
    "In the following we implement the Gaussian function:\n",
    "$$\n",
    "f(x)=\\frac{1}{\\sqrt{2\\pi}\\sigma}\\rm{e}^{-\\frac {1}{2}\\left(\\frac{x-\\mu}{\\sigma}\\right)^{2}}\n",
    "$$"
   ]
  },
  {
   "cell_type": "code",
   "execution_count": null,
   "metadata": {},
   "outputs": [],
   "source": [
    "import numpy as np\n",
    "\n",
    "# a classical mathematical function\n",
    "def gauss(x):\n",
    "    \"\"\"\n",
    "    Calculates the value of a Gauss function with mu = 0 and sigma = 1.0\n",
    "    \n",
    "    input: A number number x (float or int) at which to evaluate\n",
    "           the function\n",
    "    return: The calculated gauss value at x \n",
    "    \"\"\"\n",
    "\n",
    "    return (1.0 / np.sqrt(2.0 * np.pi)) * np.exp(-x**2 / 2.0)\n",
    "\n",
    "x = 1.0\n",
    "print(gauss(x))"
   ]
  },
  {
   "cell_type": "code",
   "execution_count": null,
   "metadata": {},
   "outputs": [],
   "source": [
    "import numpy as np\n",
    "\n",
    "# a fucntion with default (or keyword) arguments:\n",
    "def gauss_mu_sigma(x, mu=0.0, sigma=1.0):\n",
    "    \"\"\" Calculates the value of a Gauss at an input\n",
    "        value x\n",
    "        \n",
    "        input(s):\n",
    "        - The value at which to evaluate the Gauss\n",
    "          (required argument)\n",
    "        - Tne mean mu of the distribution\n",
    "          (optional argument)\n",
    "        - The width sigma of the distribution\n",
    "          (optional argument)\n",
    "          \n",
    "        return:\n",
    "        - The calculated gauss function value\n",
    "    \"\"\"\n",
    "    factor = (1.0 / np.sqrt(2.0 * sigma**2 * np.pi))\n",
    "    expon = np.exp(-(x - mu)**2 / (2.0 * sigma**2))\n",
    "    \n",
    "    return factor * expon\n",
    "\n",
    "x = 1.0\n",
    "\n",
    "# implicit mu = 0.0, sigma = 1.0\n",
    "print(gauss_mu_sigma(1.0))\n",
    "# explicit mu and sigma\n",
    "print(gauss_mu_sigma(1.0, mu=1.0, sigma=2.0))\n",
    "# implicit sigma = 1.0\n",
    "print(gauss_mu_sigma(1.0, mu=1.0))\n",
    "# implicit mu = 0.0\n",
    "print(gauss_mu_sigma(1.0, sigma=2.0))"
   ]
  },
  {
   "cell_type": "markdown",
   "metadata": {},
   "source": [
    "<a href=\"#xy_to_polar\">"
   ]
  },
  {
   "cell_type": "code",
   "execution_count": null,
   "metadata": {},
   "outputs": [],
   "source": [
    "import numpy as np\n",
    "\n",
    "# a function with two input and two output values\n",
    "def xy_to_polar(x, y):\n",
    "    \"\"\" Here is the docstring for xy_polar \"\"\"\n",
    "    # transform two-dimensional cartesian coordinates\n",
    "    r = np.sqrt(x**2 + y**2)\n",
    "    theta = np.arctan2(y, x)\n",
    "    \n",
    "    return r, theta\n",
    "\n",
    "radius, angle = xy_to_polar(1.0, 1.0)\n",
    "\n",
    "# note that the angle is given in radians!\n",
    "print(radius, angle)"
   ]
  },
  {
   "cell_type": "code",
   "execution_count": null,
   "metadata": {},
   "outputs": [],
   "source": [
    "import colorama # module to enable coloured output in print statements\n",
    "\n",
    "# a function with 'no' return value\n",
    "def print_error(str):\n",
    "    \"\"\" Docstring for function print_error \"\"\"\n",
    "    print(colorama.Fore.RED + \"Error: \" + str + colorama.Style.RESET_ALL)\n",
    "\n",
    "    # The following explicit return None can also be omitted.\n",
    "    return None\n",
    "\n",
    "print_error(\"File not found!\")"
   ]
  },
  {
   "cell_type": "markdown",
   "metadata": {},
   "source": [
    "## printing vs. returning function results\n",
    "Many students have difficulties to understand the difference between *printing the result of a function* and *returning the result of a function*. The confusion arises because, in some sitouations, they behave the same way"
   ]
  },
  {
   "cell_type": "code",
   "execution_count": null,
   "metadata": {},
   "outputs": [],
   "source": [
    "def p(x):    # p(x) prints its result 'and' returns None!\n",
    "    print(2 * x)\n",
    "    \n",
    "def r(x):    # r(x) returns its result!\n",
    "    return 2 * x\n",
    "\n",
    "# When interactively calling the two functions, they both seem to\n",
    "# behave the same way:\n",
    "p(10)\n",
    "r(10)"
   ]
  },
  {
   "cell_type": "code",
   "execution_count": null,
   "metadata": {},
   "outputs": [],
   "source": [
    "def p(x):    # p(x) prints its result 'and' returns None!\n",
    "    print(2 * x)\n",
    "    \n",
    "def r(x):    # r(x) returns its result!\n",
    "    return 2 * x\n",
    "\n",
    "# The results are however different, when 'assiging' the functions\n",
    "# results to variables:\n",
    "p_result = p(10)\n",
    "r_result = r(10)\n",
    "\n",
    "print(p_result, r_result)\n",
    "\n",
    "# Note that you need to 'return' the result of a function if you\n",
    "# want to use it later (assign it to a variable)! If in doubt, then\n",
    "# return the result!"
   ]
  },
  {
   "cell_type": "markdown",
   "metadata": {},
   "source": [
    "## The meaning of `*args` and `**kwargs`"
   ]
  },
  {
   "cell_type": "markdown",
   "metadata": {},
   "source": [
    "The documentation of many functions will give you the *arguments* `*args` and / or `**kwargs`"
   ]
  },
  {
   "cell_type": "code",
   "execution_count": null,
   "metadata": {},
   "outputs": [],
   "source": [
    "import matplotlib.pyplot as plt\n",
    "help(plt.plot)"
   ]
  },
  {
   "cell_type": "markdown",
   "metadata": {},
   "source": [
    "The two arguments mean *arbitrarily many positional arguments* (`*args`) and *arbitrarily many keyword arguments* (`**kwargs`)."
   ]
  },
  {
   "cell_type": "code",
   "execution_count": null,
   "metadata": {},
   "outputs": [],
   "source": [
    "def dummy(*args, **kwargs):\n",
    "    # The arguments are given to the function as\n",
    "    # tuples and dictionaries (container types)\n",
    "    print(args)\n",
    "    print(kwargs)\n",
    "    \n",
    "    return None\n",
    "    \n",
    "dummy(1.0, \"Thomas\", mu=1.0, name=\"Michael\")\n",
    "dummy(1, profession=\"astronomer\")"
   ]
  },
  {
   "cell_type": "code",
   "execution_count": null,
   "metadata": {},
   "outputs": [],
   "source": [
    "import matplotlib.pyplot as plt\n",
    "\n",
    "x = np.linspace(0.0, 2.0 * np.pi, 100)\n",
    "y1 = np.sin(x)\n",
    "y2 = np.cos(x)\n",
    "\n",
    "plt.plot(x, y1)"
   ]
  },
  {
   "cell_type": "code",
   "execution_count": null,
   "metadata": {},
   "outputs": [],
   "source": []
  }
 ],
 "metadata": {
  "kernelspec": {
   "display_name": "Python 3 (ipykernel)",
   "language": "python",
   "name": "python3"
  },
  "language_info": {
   "codemirror_mode": {
    "name": "ipython",
    "version": 3
   },
   "file_extension": ".py",
   "mimetype": "text/x-python",
   "name": "python",
   "nbconvert_exporter": "python",
   "pygments_lexer": "ipython3",
   "version": "3.7.13"
  }
 },
 "nbformat": 4,
 "nbformat_minor": 4
}
