{
 "cells": [
  {
   "cell_type": "markdown",
   "metadata": {},
   "source": [
    "# 1d Numpy Arrays - More access methods"
   ]
  },
  {
   "cell_type": "markdown",
   "metadata": {},
   "source": [
    "## Recap from last week"
   ]
  },
  {
   "cell_type": "markdown",
   "metadata": {},
   "source": [
    "- `numpy`-array creation (numeric types)\n",
    "- element access, slicing\n",
    "- operations and function application (element wise!)\n",
    "- basic plotting"
   ]
  },
  {
   "cell_type": "code",
   "execution_count": null,
   "metadata": {},
   "outputs": [],
   "source": [
    "%matplotlib inline\n",
    "import numpy as np\n",
    "import matplotlib.pyplot as plt\n",
    "\n",
    "x = np.linspace(0.0, 2.0 * np.pi, 100)\n",
    "y = np.exp(-x) * np.sin(x) * np.cos(2 * x) + 5\n",
    "\n",
    "plt.xlabel(r'$x$')\n",
    "plt.ylabel(r'$y$')\n",
    "plt.title\n",
    "\n",
    "plt.plot(x, y)"
   ]
  },
  {
   "cell_type": "markdown",
   "metadata": {},
   "source": [
    "## `numpy`-arrays of boolean values"
   ]
  },
  {
   "cell_type": "markdown",
   "metadata": {},
   "source": [
    "There are also `numpy`-arrays of boolean values. Why this is *very* useful will become clear below."
   ]
  },
  {
   "cell_type": "code",
   "execution_count": null,
   "metadata": {},
   "outputs": [],
   "source": [
    "import numpy as np\n",
    "\n",
    "a = np.array([True, False, True])\n",
    "b = np.array([False, False, True])\n",
    "\n",
    "# Note that 'and' or 'or' are not doing what you would expect\n",
    "# them do do here. They would\n",
    "# refer to the arrays 'as a whole', not in an elemtwise way.\n",
    "print(a and b)\n",
    "print(a or b)\n",
    "\n",
    "# The following operators implement 'elementwise or' and 'elementwise and'\n",
    "\n",
    "# elementwise or:\n",
    "#print(a | b)\n",
    "\n",
    "# elementwise and:\n",
    "#print(a & b)"
   ]
  },
  {
   "cell_type": "markdown",
   "metadata": {},
   "source": [
    "**Note:** In calculations, True = 1 and False = 0"
   ]
  },
  {
   "cell_type": "code",
   "execution_count": null,
   "metadata": {},
   "outputs": [],
   "source": [
    "print(True + True)\n",
    "print(False - True)"
   ]
  },
  {
   "cell_type": "markdown",
   "metadata": {},
   "source": [
    "## Fancy indexing and Masking\n",
    "Slicing does not provide all the necessary functionality to extract sub-arrays. For instance, the application of a $\\log$-function only should happen on elements larger than zero. We would therefore like to act on array elements meeting more complex conditions."
   ]
  },
  {
   "cell_type": "markdown",
   "metadata": {},
   "source": [
    "### Fancy indexing: explicit array access with a subset of indices"
   ]
  },
  {
   "cell_type": "code",
   "execution_count": null,
   "metadata": {},
   "outputs": [],
   "source": [
    "import numpy as np\n",
    "\n",
    "x = np.arange(1, 5, 1)\n",
    "print(x)\n",
    "ind = np.array([0, 2, 3]) # indices of elements we would like to extract\n",
    "b = x[ind]\n",
    "print(b)"
   ]
  },
  {
   "cell_type": "markdown",
   "metadata": {},
   "source": [
    "**Note:** This is not as often used as masking (see below). Some `numpy`-functions provide an index-array. The most important of those functions  is dor me `np.where` (see [this task from 03_Lecture_Review.ipynb](03_Lecture_Review.ipynb/#min_max) for an example)."
   ]
  },
  {
   "cell_type": "markdown",
   "metadata": {},
   "source": [
    "### Boolean indexing: array access with a bool *mask-array*"
   ]
  },
  {
   "cell_type": "code",
   "execution_count": null,
   "metadata": {},
   "outputs": [],
   "source": [
    "# Note that boolean-indexing is usually never done explicitely\n",
    "# but indirectly via masking (see below). We show the explicit\n",
    "# boolean masking for demonstration purposes here.\n",
    "import numpy as np\n",
    "\n",
    "x = np.arange(1, 5, 1)\n",
    "print(x)\n",
    "# we access indices that are 'True' in a boolean array\n",
    "# of the same size as x:\n",
    "ind = np.array([True, False, True, True])\n",
    "b = x[ind]\n",
    "print(b)"
   ]
  },
  {
   "cell_type": "markdown",
   "metadata": {},
   "source": [
    "### General Masking"
   ]
  },
  {
   "cell_type": "code",
   "execution_count": null,
   "metadata": {},
   "outputs": [],
   "source": [
    "import numpy as np\n",
    "import numpy.random as nr\n",
    "\n",
    "x = nr.randint(-10, 10, 10)\n",
    "print(x)\n",
    "mask1 = (x > 0)  # mask is a bool array\n",
    "print(mask1)\n",
    "y = x[mask1]     # extract the values from x where mask = True\n",
    "print(y)\n",
    "mask2 = (x > 0) & (x < 4)  # combined mask (and condition)\n",
    "mask3 = (x < -5) | (x > 5) # combined mask (or condition)\n",
    "print(x[mask2])\n",
    "print(x[mask3])"
   ]
  },
  {
   "cell_type": "markdown",
   "metadata": {},
   "source": [
    "**Note:** Fancy indexing and masking can be used *on the left side of an assignment* as well!"
   ]
  },
  {
   "cell_type": "code",
   "execution_count": null,
   "metadata": {},
   "outputs": [],
   "source": [
    "import numpy as np\n",
    "\n",
    "a = np.arange(0, 11, 1)\n",
    "\n",
    "ind = np.array([0, 2, 4])\n",
    "a[ind] = 1000\n",
    "print(a)\n",
    "\n",
    "a = np.arange(0, 11, 1)\n",
    "a[a%2 == 0] = 1000\n",
    "print(a)"
   ]
  },
  {
   "cell_type": "markdown",
   "metadata": {},
   "source": [
    "## Example: Monte-Carlo estimation of $\\pi$"
   ]
  },
  {
   "cell_type": "markdown",
   "metadata": {},
   "source": [
    "Consider the quarter circle within the unit square. If you generate a 2-D point (an ordered pair) uniformly at random within the unit square, then the probability that the point is inside the quarter circle is equal to the ratio of the area of the quarter circle divided by the area of the unit square. That is, $P(point inside circle) = Area(quarter circle) / Area(unit square) = \\frac{\\pi}{4}$."
   ]
  },
  {
   "cell_type": "markdown",
   "metadata": {},
   "source": [
    "<img src=\"figs/pi.png\" width=\"400\" height=\"200\" />"
   ]
  },
  {
   "cell_type": "markdown",
   "metadata": {},
   "source": [
    "Estimate $\\pi$ with that method."
   ]
  },
  {
   "cell_type": "code",
   "execution_count": null,
   "metadata": {},
   "outputs": [],
   "source": [
    "# your solution here\n",
    "import numpy as np\n",
    "import numpy.random as nr\n",
    "\n",
    "sample_size = 10000\n",
    "\n",
    "x = nr.random_sample(sample_size)\n",
    "y = nr.random_sample(sample_size)\n",
    "\n",
    "mask = (x**2 + y**2) <= 1.0\n",
    "\n",
    "pi_estimate = 4 * np.count_nonzero(mask) / sample_size\n",
    "\n",
    "print(f\"An estimate pi with {sample_size} points is {pi_estimate}\")\n"
   ]
  },
  {
   "cell_type": "markdown",
   "metadata": {},
   "source": [
    "In the following a solution which also creates the plot above"
   ]
  },
  {
   "cell_type": "code",
   "execution_count": null,
   "metadata": {},
   "outputs": [],
   "source": [
    "# script to estimate pi with a Monte Carlo simulation\n",
    "\n",
    "import numpy as np\n",
    "import numpy.random as nr\n",
    "import matplotlib.pyplot as plt\n",
    "import matplotlib  # to be able to modify fonts etc.\n",
    "\n",
    "# without the following two lines, matplotlib currently throws\n",
    "# some warning messages that we want to ignore\n",
    "import warnings\n",
    "warnings.filterwarnings(\"ignore\")\n",
    "\n",
    "# font size of labels etc,\n",
    "matplotlib.rcParams['font.size'] = 18\n",
    "# line width of coordinate axes\n",
    "matplotlib.rcParams['axes.linewidth'] = 2.0\n",
    "\n",
    "# For large sample-sizes the plot gets too crowded\n",
    "sample_size = 1000\n",
    "x = nr.random_sample(sample_size)\n",
    "y = nr.random_sample(sample_size)\n",
    "\n",
    "mask_in = (x**2 + y**2) <= 1.0\n",
    "mask_out = (x**2 + y**2) > 1.0\n",
    "\n",
    "# scatter plot of the points inside (red) and outside (blue)\n",
    "# of the unit circle:\n",
    "plt.scatter(x[mask_in], y[mask_in], color='red')\n",
    "plt.scatter(x[mask_out], y[mask_out], color='blue')\n",
    "\n",
    "# plot the quarter circle. A circle with radius 1\n",
    "# follows the implicit equation x**2 + y**2 = 1:\n",
    "x_func = np.linspace(0.0, 1.0, 100)\n",
    "y_func = np.sqrt(1 - x_func**2)\n",
    "\n",
    "plt.plot(x_func, y_func, color='black', linewidth=5)\n",
    "\n",
    "plt.xlim(0.0, 1.0)\n",
    "plt.ylim(0.0, 1.0)\n",
    "\n",
    "plt.xlabel('x')\n",
    "plt.ylabel('y')\n",
    "\n",
    "# without the following command the resulting plot is stretched\n",
    "# and the aspect ratio of both axes is not equal. The circle segment\n",
    "# would appear as ellipse-segment etc.\n",
    "plt.axes().set_aspect('equal')\n",
    "plt.title('$\\pi$ with Monte-Carlo')\n",
    "\n",
    "#plt.savefig('pi.png', dpi=200)\n",
    "#plt.show()\n",
    "\n",
    "# now estimate pi:\n",
    "pi_estimate = 4.0 * (len(x[mask_in]) / len(x))\n",
    "\n",
    "print(f\"We estimate pi to: {pi_estimate}\")\n"
   ]
  }
 ],
 "metadata": {
  "kernelspec": {
   "display_name": "Python 3 (ipykernel)",
   "language": "python",
   "name": "python3"
  },
  "language_info": {
   "codemirror_mode": {
    "name": "ipython",
    "version": 3
   },
   "file_extension": ".py",
   "mimetype": "text/x-python",
   "name": "python",
   "nbconvert_exporter": "python",
   "pygments_lexer": "ipython3",
   "version": "3.7.13"
  }
 },
 "nbformat": 4,
 "nbformat_minor": 4
}
