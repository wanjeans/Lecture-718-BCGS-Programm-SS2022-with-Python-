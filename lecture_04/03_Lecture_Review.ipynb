{
 "cells": [
  {
   "cell_type": "markdown",
   "metadata": {},
   "source": [
    "# Review Tasks for the lecture"
   ]
  },
  {
   "cell_type": "markdown",
   "metadata": {},
   "source": [
    "Here some small tasks with that you should be able to do directly after the lecture. I strongly advise you to look at them before the exercise. It gives you the opportunity to check what you did not yet understand and to ask your tutor in the case of problems."
   ]
  },
  {
   "cell_type": "markdown",
   "metadata": {},
   "source": [
    "## Review tasks on functions"
   ]
  },
  {
   "cell_type": "markdown",
   "metadata": {},
   "source": [
    "**Please try to answer the following questions before executing any code. Do this only to verify your answers!**"
   ]
  },
  {
   "cell_type": "markdown",
   "metadata": {},
   "source": [
    "- What is the output of the ```print```-statements in the follwing code:\n",
    "    ```\n",
    "    def triple(x):\n",
    "        x = x * 3\n",
    "        print(x)        \n",
    "        \n",
    "    x = 5\n",
    "    print(triple(x))\n",
    "    ```\n",
    "    \n",
    "  What did the programmer of the function probably intend to do?\n",
    " "
   ]
  },
  {
   "cell_type": "markdown",
   "metadata": {},
   "source": [
    "- What is the output of the following code:\n",
    "    ```\n",
    "    def increase_a(a):\n",
    "        a = a + 1\n",
    "        return(a)\n",
    "        \n",
    "    a = 5\n",
    "    print(a, increase_a(a), a)\n",
    "    ```"
   ]
  },
  {
   "cell_type": "markdown",
   "metadata": {},
   "source": [
    "- What is the output of the following code:\n",
    "  ```\n",
    "  def f(x):\n",
    "      return x + 2, x * 2\n",
    "      \n",
    "  x, y = f(5)\n",
    "  print(x + y)\n",
    "  ```"
   ]
  },
  {
   "cell_type": "markdown",
   "metadata": {},
   "source": [
    "- What is the output of the following code:\n",
    "  ```\n",
    "  import numpy as np\n",
    "  \n",
    "  def my_add(x, y):\n",
    "      return x + y\n",
    "      \n",
    "  x, y = 3, 5\n",
    "  print(my_add(x, y))\n",
    "  x, y = \"Hello \", \"Thomas\"\n",
    "  print(my_add(x, y))\n",
    "  x, y = np.array([1, 2]), np.array([3, 4])\n",
    "  print(my_add(x, y))\n",
    "  ```"
   ]
  },
  {
   "cell_type": "markdown",
   "metadata": {},
   "source": [
    "- Write the inverse function to ```xy_to_polar``` (see the [lecture](01_functions_in_python.ipynb/#xy_to_polar)). Its name should be ```polar_to_xy``` and it should accept polar coordinates $(r, \\theta)$ of a point in the two-dimensional plane.\n",
    "The function should return the corresponding $x$ and $y$ coordinates.\n",
    "   \n",
    "  **Hint:** $x = r \\cos(\\theta)$ and $y = r \\sin(\\theta)$. Note that the angle $\\theta$ has to be provided in radians!"
   ]
  },
  {
   "cell_type": "markdown",
   "metadata": {},
   "source": [
    "- I provide you with some [code](code/square_root.py) to estimate the square root of a positive real number with the following recipe:\n",
    "\n",
    "  The square root $y=\\sqrt{x}$ of a positive number $x$ can be estimated iteratively with $y_0>0$ (an arbitrary positive number) and $y_{n+1}=\\frac 12\\left(y_n+\\frac{x}{y_n}\\right)$. The procedure can be implmented with a `while`-loop testing for the condition $|y_{n+1}-y_n|>\\epsilon$. $\\epsilon$ represents the accuracy of the final square-root estimate. You update $y_n$ and $y_{n+1}$ within the loop and consider the final $y_{n+1}$ as estimate for $\\sqrt{x}$.\n",
    "\n",
    "  Turn the fiven code into a python-function `my_sqrt`. The function should accept as arguments the number from which to estimate the square root and the required accuracy $\\epsilon$. $\\epsilon$ should be an optional parameter with a default value of $\\epsilon=10^{-6}$.\n",
    "  - If the user provides an invalid input (a number smaller than zero), the function should print an error message and return `None`.\n",
    "  - If the user input is valid, the function should return the square root estimate.\n"
   ]
  },
  {
   "cell_type": "markdown",
   "metadata": {},
   "source": [
    "## Review tasks on `numpy`-arrays"
   ]
  },
  {
   "cell_type": "markdown",
   "metadata": {},
   "source": [
    "1. **Please try to answer the following questions before executing any code. Do this only to verify your answers and use appropriate help-utilities if you are uncertain! For each problem you should be able to explain WHY you obtain a certain result!**"
   ]
  },
  {
   "cell_type": "markdown",
   "metadata": {},
   "source": [
    "- What is the result of the following code:\n",
    "\n",
    "    ```\n",
    "    import numpy as np\n",
    "    \n",
    "    x = np.array([1,2,3,4,5 ])\n",
    "    \n",
    "    y = (x[2:] + x[:-2]) / 2.\n",
    "    z = (x[:] + x[::-1]) / 2.\n",
    "    \n",
    "    print(y, z)\n",
    "    ```"
   ]
  },
  {
   "cell_type": "markdown",
   "metadata": {},
   "source": [
    "- What is the result of the following code:\n",
    "    \n",
    "    ```\n",
    "    import numpy as np\n",
    "    \n",
    "    x = np.arange(1, 11)\n",
    "    y = np.arange(10, 20)\n",
    "    \n",
    "    x[x<5] = 100\n",
    "    x[y>15] = 2\n",
    "    \n",
    "    print(x)\n",
    "    ```"
   ]
  },
  {
   "cell_type": "markdown",
   "metadata": {},
   "source": [
    "- What is the result of the following code:\n",
    "    ```\n",
    "    import numpy as np\n",
    "    \n",
    "    x = np.arange(1, 21)\n",
    "    \n",
    "    x[(x**2 >= 9) & (x**3 < 1000)] = 100\n",
    "    \n",
    "    print(x)\n",
    "    ```"
   ]
  },
  {
   "cell_type": "markdown",
   "metadata": {},
   "source": [
    "- What is the result of the following code:\n",
    "\n",
    "   ```\n",
    "   import numpy as np\n",
    "   \n",
    "   a = np.arange(1,11)\n",
    "   \n",
    "   b = (a%2 == 0)\n",
    "   \n",
    "   print(b)\n",
    "   ```"
   ]
  },
  {
   "cell_type": "markdown",
   "metadata": {},
   "source": [
    "<a id='min_max'></a>\n",
    "2. Please explain in plain English what the code in the following cell is doing and *how* it works!"
   ]
  },
  {
   "cell_type": "code",
   "execution_count": null,
   "metadata": {},
   "outputs": [],
   "source": [
    "%matplotlib inline\n",
    "import numpy as np\n",
    "import matplotlib.pyplot as plt\n",
    "\n",
    "x = np.linspace(0.0, 4.0 * np.pi, 100)\n",
    "y = np.sin(x)\n",
    "\n",
    "# why is there a '+1' at the end of the following two lines?\n",
    "a = np.where((y[1:-1] >= y[:-2]) & (y[1:-1] >= y[2:]))[0] + 1\n",
    "b = np.where((y[1:-1] <= y[:-2]) & (y[1:-1] <= y[2:]))[0] + 1\n",
    "\n",
    "plt.plot(x, y)\n",
    "plt.plot(x[a], y[a], 'o', label=\"a points\")\n",
    "plt.plot(x[b], y[b], 'o', label=\"b points\")\n",
    "plt.legend()"
   ]
  },
  {
   "cell_type": "markdown",
   "metadata": {},
   "source": [
    "3. Solve [problem 1](https://projecteuler.net/problem=1) of Project Euler: \n",
    "\n",
    "  If we list all the natural numbers below 10 that are multiples of 3 or 5, we get 3, 5, 6 and 9. The sum of these multiples is 23.\n",
    "  \n",
    "  Find the sum of all the multiples of 3 or 5 below 1000.\n",
    "  \n",
    "  **Hint:** The problem can be solved in *two* essential lines of code. The first one is:\n",
    "  \n",
    "  ```python\n",
    "  numbers = np.arange(1, 1001, 1)\n",
    "  ```"
   ]
  },
  {
   "cell_type": "code",
   "execution_count": null,
   "metadata": {},
   "outputs": [],
   "source": []
  }
 ],
 "metadata": {
  "kernelspec": {
   "display_name": "Python 3 (ipykernel)",
   "language": "python",
   "name": "python3"
  },
  "language_info": {
   "codemirror_mode": {
    "name": "ipython",
    "version": 3
   },
   "file_extension": ".py",
   "mimetype": "text/x-python",
   "name": "python",
   "nbconvert_exporter": "python",
   "pygments_lexer": "ipython3",
   "version": "3.7.13"
  }
 },
 "nbformat": 4,
 "nbformat_minor": 4
}
