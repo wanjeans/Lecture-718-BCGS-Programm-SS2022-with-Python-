{
 "cells": [
  {
   "cell_type": "markdown",
   "id": "24f9204c-d2a9-4838-80af-df44a1219917",
   "metadata": {},
   "source": [
    "# Project 1 - Stress on a floating wind turbine\n",
    "\n",
    "**Project deadline:** This project is due for submission on Wednesday, 11.05.2022, 23:59. Please check carefully the *About the Projects* section below for further details."
   ]
  },
  {
   "cell_type": "markdown",
   "id": "67c5db56-41f2-42f6-93d9-a37183de2c6c",
   "metadata": {},
   "source": [
    "**Important:** You have the choice to work either on this project or on another one from Thomas. We strongly advise you to read through both project notebooks completely before you take a decision."
   ]
  },
  {
   "cell_type": "markdown",
   "id": "984b96bb-68f7-4c78-8e90-3083b8004680",
   "metadata": {},
   "source": [
    "## About the Projects\n",
    "- You will get one project approximately every other week.\n",
    "- Besides the homework-assignmentts, you need to solve the projects in order to pass the course. Your final course mark consists of the mean of your project marks. We aim to hand-out six projects during the term and we do not consider the worst project mark for your final course mark. Projects that you do not hand in are counted with a mark of 4.\n",
    "- The projects needs to be submitted by uploading a modified version of this notebook to [Projects/Project 1](https://ecampus.uni-bonn.de/goto_ecampus_exc_2645968.html) on eCampus. Please only upload this notebook and no other files. You also do not need to change its filename before your upload. Your project must be on eCampus by Wednesday, 11.05.2022, 23:59. **No late uploads can be accepted!**\n",
    "- **In contrast to the homework exercises, each student must hand in an own solution for the projects! Of course you can and should discuss problems with each other! However, you need to be able to explain your solution in detail to your tutor and/or the lecturers! We might ask you for an interview about your project if the solution is (close to) identical to another students submission.**\n",
    "\n",
    "**Note:** The tutors, Thomas and I are very happy to help you out with difficulties you might have with the project tasks! You can ask questions any time but please do so well in advance of the deadlines!"
   ]
  },
  {
   "cell_type": "markdown",
   "id": "bb20098d-94ac-4f70-b670-7acfcbb26ccf",
   "metadata": {},
   "source": [
    "### Your Name here please: Jing Wang"
   ]
  },
  {
   "cell_type": "markdown",
   "id": "8ec0dd26-0dd6-4a53-9d93-89baf8654c36",
   "metadata": {},
   "source": [
    "# Floating wind turbines\n",
    "Currently, the demand for renewable energy is very high. Wind turbines are very successful sources of renewable energy, and many states are planning new wind farms to increase the fraction of green energy in the overall consumption. Despite the high demand, it is difficult to establish large new onshore (land-based) wind farms due to space limitations: Attention has to be paid to landscape and neighbors.\n",
    "\n",
    "The same constraints do not limit offshore wind farms. However, the conventional offshore wind turbine has a foundation which stands on the seafloor. The foundations are limited to a certain height, as the price and complexity of the foundation scales with the water depth. According to Wikipedia, fixed foundations can be installed at sea depth up to around 50 m.\n",
    "\n",
    "This limits the possible wind farm locations to very few areas in the world where the ocean floor falls off relatively flatly away from the shore. \n",
    "\n",
    "Therefore, floating foundations are now being developed by many companies.\n",
    "\n",
    "While floating wind turbine foundations may solve many problems related to installation of offshore wind, the technologies are still being tested. \n",
    "\n",
    "In this project you will work with simulated data measured for a floating foundation with a with a 15 MW wind turbine. For comparison, the standard offshore wind turbine is certified for on the order of 8 MW. Wind turbines in producing in the range of 15-20 MW are being pursued by many of the manufacturing companies. \n",
    "\n",
    "\n",
    "### This project\n",
    "In this project, we will consider data from simulations of a floating 15 MW offshore turbine in operation. The data contains the values shown in this figure as a function of time. \n",
    "\n",
    "\n",
    "<img src=\"figs/windTurbinePicture1.png\" width=\"400\" height=\"200\" />\n",
    "\n",
    "\n",
    "\n",
    "\n",
    "\n",
    "\n"
   ]
  },
  {
   "cell_type": "markdown",
   "id": "6c331222-cafe-4b06-8be3-7383ba954cfc",
   "metadata": {},
   "source": [
    "## Necessary Python packages"
   ]
  },
  {
   "cell_type": "code",
   "execution_count": 2,
   "id": "62b171c4-c60d-4280-9818-5f74c938ef38",
   "metadata": {},
   "outputs": [],
   "source": [
    "# We need some modules (Python libraries) in the following.\n",
    "# Usually, such modules are loaded in the first cell of a notebook.\n",
    "# The modules that we need concern loading the data and plotting\n",
    "# them later.\n",
    "\n",
    "# all plots should appear directly within the notebook\n",
    "%matplotlib inline\n",
    "\n",
    "# modules necessary for plotting\n",
    "import matplotlib.pyplot as plt\n",
    "\n",
    "# seaborn just makes plots look a bit nicer - not\n",
    "# absolutely necessary though.\n",
    "import seaborn as sns\n",
    "sns.set_style(\"whitegrid\")\n",
    "\n",
    "# modules to load the data. The Pandas module\n",
    "# is just needed for a quick data-loading demonstration at the\n",
    "# start of the Notebook. \n",
    "import pandas as pd\n",
    "\n",
    "\n",
    "# module to make avilable data structures and routines\n",
    "# for numerics\n",
    "import numpy as np\n"
   ]
  },
  {
   "cell_type": "markdown",
   "id": "08c38f3a-83fd-4c26-8d75-eef1321c7e12",
   "metadata": {},
   "source": [
    "# Loading the data\n",
    "One great feature of `Python` is the ability to load all kinds of standardised data-formats into memory - in most cases with a single command. The data can be located on your disk or on the Web. \n",
    "\n",
    "You need to download the file \"Bending moment tower bottom 15 MW offshore wind turbine.csv\" from the github. "
   ]
  },
  {
   "cell_type": "code",
   "execution_count": 3,
   "id": "617f4eaf-342c-4019-9419-88e1a87a161f",
   "metadata": {},
   "outputs": [
    {
     "data": {
      "text/html": [
       "<div>\n",
       "<style scoped>\n",
       "    .dataframe tbody tr th:only-of-type {\n",
       "        vertical-align: middle;\n",
       "    }\n",
       "\n",
       "    .dataframe tbody tr th {\n",
       "        vertical-align: top;\n",
       "    }\n",
       "\n",
       "    .dataframe thead th {\n",
       "        text-align: right;\n",
       "    }\n",
       "</style>\n",
       "<table border=\"1\" class=\"dataframe\">\n",
       "  <thead>\n",
       "    <tr style=\"text-align: right;\">\n",
       "      <th></th>\n",
       "      <th>Orcaflex Simulation of 15 MW floating offshore wind turbine</th>\n",
       "      <th>Unnamed: 1</th>\n",
       "      <th>Unnamed: 2</th>\n",
       "      <th>Unnamed: 3</th>\n",
       "      <th>Unnamed: 4</th>\n",
       "      <th>Unnamed: 5</th>\n",
       "      <th>Unnamed: 6</th>\n",
       "    </tr>\n",
       "  </thead>\n",
       "  <tbody>\n",
       "    <tr>\n",
       "      <th>0</th>\n",
       "      <td>NaN</td>\n",
       "      <td>NaN</td>\n",
       "      <td>NaN</td>\n",
       "      <td>NaN</td>\n",
       "      <td>NaN</td>\n",
       "      <td>NaN</td>\n",
       "      <td>NaN</td>\n",
       "    </tr>\n",
       "    <tr>\n",
       "      <th>1</th>\n",
       "      <td>Time</td>\n",
       "      <td>Wind speed</td>\n",
       "      <td>Sea surface</td>\n",
       "      <td>Mooring force</td>\n",
       "      <td>Tilt</td>\n",
       "      <td>Nac. acc.</td>\n",
       "      <td>Tower mom.</td>\n",
       "    </tr>\n",
       "    <tr>\n",
       "      <th>2</th>\n",
       "      <td>(s)</td>\n",
       "      <td>(m/s)</td>\n",
       "      <td>(m)</td>\n",
       "      <td>(kN)</td>\n",
       "      <td>(deg.)</td>\n",
       "      <td>(m/s2)</td>\n",
       "      <td>(kNm)</td>\n",
       "    </tr>\n",
       "    <tr>\n",
       "      <th>3</th>\n",
       "      <td>0</td>\n",
       "      <td>32.98</td>\n",
       "      <td>0.47</td>\n",
       "      <td>7436.27</td>\n",
       "      <td>-5.56</td>\n",
       "      <td>-1.25</td>\n",
       "      <td>-806154.06</td>\n",
       "    </tr>\n",
       "    <tr>\n",
       "      <th>4</th>\n",
       "      <td>0.1</td>\n",
       "      <td>33.24</td>\n",
       "      <td>0.29</td>\n",
       "      <td>7457.32</td>\n",
       "      <td>-5.55</td>\n",
       "      <td>-1.25</td>\n",
       "      <td>-806570.1</td>\n",
       "    </tr>\n",
       "    <tr>\n",
       "      <th>...</th>\n",
       "      <td>...</td>\n",
       "      <td>...</td>\n",
       "      <td>...</td>\n",
       "      <td>...</td>\n",
       "      <td>...</td>\n",
       "      <td>...</td>\n",
       "      <td>...</td>\n",
       "    </tr>\n",
       "    <tr>\n",
       "      <th>35999</th>\n",
       "      <td>3599.6</td>\n",
       "      <td>52.96</td>\n",
       "      <td>0.39</td>\n",
       "      <td>5494.01</td>\n",
       "      <td>-4</td>\n",
       "      <td>-0.23</td>\n",
       "      <td>-518214.75</td>\n",
       "    </tr>\n",
       "    <tr>\n",
       "      <th>36000</th>\n",
       "      <td>3599.7</td>\n",
       "      <td>53.64</td>\n",
       "      <td>0.3</td>\n",
       "      <td>5510.76</td>\n",
       "      <td>-4</td>\n",
       "      <td>-0.21</td>\n",
       "      <td>-516202.25</td>\n",
       "    </tr>\n",
       "    <tr>\n",
       "      <th>36001</th>\n",
       "      <td>3599.8</td>\n",
       "      <td>54.17</td>\n",
       "      <td>0.21</td>\n",
       "      <td>5525.76</td>\n",
       "      <td>-4</td>\n",
       "      <td>-0.19</td>\n",
       "      <td>-514701.78</td>\n",
       "    </tr>\n",
       "    <tr>\n",
       "      <th>36002</th>\n",
       "      <td>3599.9</td>\n",
       "      <td>54.54</td>\n",
       "      <td>0.11</td>\n",
       "      <td>5539.14</td>\n",
       "      <td>-3.99</td>\n",
       "      <td>-0.18</td>\n",
       "      <td>-513763.14</td>\n",
       "    </tr>\n",
       "    <tr>\n",
       "      <th>36003</th>\n",
       "      <td>3600</td>\n",
       "      <td>54.72</td>\n",
       "      <td>0.02</td>\n",
       "      <td>5551.04</td>\n",
       "      <td>-3.99</td>\n",
       "      <td>-0.17</td>\n",
       "      <td>-513428.53</td>\n",
       "    </tr>\n",
       "  </tbody>\n",
       "</table>\n",
       "<p>36004 rows × 7 columns</p>\n",
       "</div>"
      ],
      "text/plain": [
       "      Orcaflex Simulation of 15 MW floating offshore wind turbine  Unnamed: 1  \\\n",
       "0                                                    NaN                  NaN   \n",
       "1                                                   Time           Wind speed   \n",
       "2                                                    (s)                (m/s)   \n",
       "3                                                      0                32.98   \n",
       "4                                                    0.1                33.24   \n",
       "...                                                  ...                  ...   \n",
       "35999                                             3599.6                52.96   \n",
       "36000                                             3599.7                53.64   \n",
       "36001                                             3599.8                54.17   \n",
       "36002                                             3599.9                54.54   \n",
       "36003                                               3600                54.72   \n",
       "\n",
       "        Unnamed: 2     Unnamed: 3 Unnamed: 4 Unnamed: 5  Unnamed: 6  \n",
       "0              NaN            NaN        NaN        NaN         NaN  \n",
       "1      Sea surface  Mooring force       Tilt  Nac. acc.  Tower mom.  \n",
       "2              (m)           (kN)     (deg.)     (m/s2)       (kNm)  \n",
       "3             0.47        7436.27      -5.56      -1.25  -806154.06  \n",
       "4             0.29        7457.32      -5.55      -1.25   -806570.1  \n",
       "...            ...            ...        ...        ...         ...  \n",
       "35999         0.39        5494.01         -4      -0.23  -518214.75  \n",
       "36000          0.3        5510.76         -4      -0.21  -516202.25  \n",
       "36001         0.21        5525.76         -4      -0.19  -514701.78  \n",
       "36002         0.11        5539.14      -3.99      -0.18  -513763.14  \n",
       "36003         0.02        5551.04      -3.99      -0.17  -513428.53  \n",
       "\n",
       "[36004 rows x 7 columns]"
      ]
     },
     "execution_count": 3,
     "metadata": {},
     "output_type": "execute_result"
    }
   ],
   "source": [
    "filename = \"data/Orcaflex Simulation, 15 MW wind turbine.csv\"\n",
    "\n",
    "data = pd.read_csv(filename, # Here we load the file\n",
    "                   delimiter=';') # Delimiter tells how the rows are separated\n",
    "data # print a preview of the data"
   ]
  },
  {
   "cell_type": "markdown",
   "id": "0029bf82-6646-4767-bbd2-2c48a3f5c6ff",
   "metadata": {},
   "source": [
    "The data does not look as we want it to. The first line includes the name of the data, and the header is only in line 1. Therefore, we need to exclude the first few rows. \n",
    "\n",
    "The ```header``` argument tells the function which row contains the headers of the columns. The ```skiprows``` tells the function if some rows should be skipped. We will skip the row containing the units for now."
   ]
  },
  {
   "cell_type": "code",
   "execution_count": 4,
   "id": "f2fdc03e-4ca1-4c0d-8b7c-096455cceccc",
   "metadata": {},
   "outputs": [
    {
     "data": {
      "text/html": [
       "<div>\n",
       "<style scoped>\n",
       "    .dataframe tbody tr th:only-of-type {\n",
       "        vertical-align: middle;\n",
       "    }\n",
       "\n",
       "    .dataframe tbody tr th {\n",
       "        vertical-align: top;\n",
       "    }\n",
       "\n",
       "    .dataframe thead th {\n",
       "        text-align: right;\n",
       "    }\n",
       "</style>\n",
       "<table border=\"1\" class=\"dataframe\">\n",
       "  <thead>\n",
       "    <tr style=\"text-align: right;\">\n",
       "      <th></th>\n",
       "      <th>Time</th>\n",
       "      <th>Wind speed</th>\n",
       "      <th>Sea surface</th>\n",
       "      <th>Mooring force</th>\n",
       "      <th>Tilt</th>\n",
       "      <th>Nac. acc.</th>\n",
       "      <th>Tower mom.</th>\n",
       "    </tr>\n",
       "  </thead>\n",
       "  <tbody>\n",
       "    <tr>\n",
       "      <th>0</th>\n",
       "      <td>0.0</td>\n",
       "      <td>32.98</td>\n",
       "      <td>0.47</td>\n",
       "      <td>7436.27</td>\n",
       "      <td>-5.56</td>\n",
       "      <td>-1.25</td>\n",
       "      <td>-806154.06</td>\n",
       "    </tr>\n",
       "    <tr>\n",
       "      <th>1</th>\n",
       "      <td>0.1</td>\n",
       "      <td>33.24</td>\n",
       "      <td>0.29</td>\n",
       "      <td>7457.32</td>\n",
       "      <td>-5.55</td>\n",
       "      <td>-1.25</td>\n",
       "      <td>-806570.10</td>\n",
       "    </tr>\n",
       "    <tr>\n",
       "      <th>2</th>\n",
       "      <td>0.2</td>\n",
       "      <td>33.66</td>\n",
       "      <td>0.11</td>\n",
       "      <td>7475.07</td>\n",
       "      <td>-5.53</td>\n",
       "      <td>-1.24</td>\n",
       "      <td>-806385.89</td>\n",
       "    </tr>\n",
       "    <tr>\n",
       "      <th>3</th>\n",
       "      <td>0.3</td>\n",
       "      <td>34.23</td>\n",
       "      <td>-0.06</td>\n",
       "      <td>7489.50</td>\n",
       "      <td>-5.51</td>\n",
       "      <td>-1.23</td>\n",
       "      <td>-805549.79</td>\n",
       "    </tr>\n",
       "    <tr>\n",
       "      <th>4</th>\n",
       "      <td>0.4</td>\n",
       "      <td>34.95</td>\n",
       "      <td>-0.22</td>\n",
       "      <td>7500.62</td>\n",
       "      <td>-5.49</td>\n",
       "      <td>-1.21</td>\n",
       "      <td>-804060.69</td>\n",
       "    </tr>\n",
       "    <tr>\n",
       "      <th>...</th>\n",
       "      <td>...</td>\n",
       "      <td>...</td>\n",
       "      <td>...</td>\n",
       "      <td>...</td>\n",
       "      <td>...</td>\n",
       "      <td>...</td>\n",
       "      <td>...</td>\n",
       "    </tr>\n",
       "    <tr>\n",
       "      <th>35996</th>\n",
       "      <td>3599.6</td>\n",
       "      <td>52.96</td>\n",
       "      <td>0.39</td>\n",
       "      <td>5494.01</td>\n",
       "      <td>-4.00</td>\n",
       "      <td>-0.23</td>\n",
       "      <td>-518214.75</td>\n",
       "    </tr>\n",
       "    <tr>\n",
       "      <th>35997</th>\n",
       "      <td>3599.7</td>\n",
       "      <td>53.64</td>\n",
       "      <td>0.30</td>\n",
       "      <td>5510.76</td>\n",
       "      <td>-4.00</td>\n",
       "      <td>-0.21</td>\n",
       "      <td>-516202.25</td>\n",
       "    </tr>\n",
       "    <tr>\n",
       "      <th>35998</th>\n",
       "      <td>3599.8</td>\n",
       "      <td>54.17</td>\n",
       "      <td>0.21</td>\n",
       "      <td>5525.76</td>\n",
       "      <td>-4.00</td>\n",
       "      <td>-0.19</td>\n",
       "      <td>-514701.78</td>\n",
       "    </tr>\n",
       "    <tr>\n",
       "      <th>35999</th>\n",
       "      <td>3599.9</td>\n",
       "      <td>54.54</td>\n",
       "      <td>0.11</td>\n",
       "      <td>5539.14</td>\n",
       "      <td>-3.99</td>\n",
       "      <td>-0.18</td>\n",
       "      <td>-513763.14</td>\n",
       "    </tr>\n",
       "    <tr>\n",
       "      <th>36000</th>\n",
       "      <td>3600.0</td>\n",
       "      <td>54.72</td>\n",
       "      <td>0.02</td>\n",
       "      <td>5551.04</td>\n",
       "      <td>-3.99</td>\n",
       "      <td>-0.17</td>\n",
       "      <td>-513428.53</td>\n",
       "    </tr>\n",
       "  </tbody>\n",
       "</table>\n",
       "<p>36001 rows × 7 columns</p>\n",
       "</div>"
      ],
      "text/plain": [
       "         Time  Wind speed  Sea surface  Mooring force  Tilt  Nac. acc.  \\\n",
       "0         0.0       32.98         0.47        7436.27 -5.56      -1.25   \n",
       "1         0.1       33.24         0.29        7457.32 -5.55      -1.25   \n",
       "2         0.2       33.66         0.11        7475.07 -5.53      -1.24   \n",
       "3         0.3       34.23        -0.06        7489.50 -5.51      -1.23   \n",
       "4         0.4       34.95        -0.22        7500.62 -5.49      -1.21   \n",
       "...       ...         ...          ...            ...   ...        ...   \n",
       "35996  3599.6       52.96         0.39        5494.01 -4.00      -0.23   \n",
       "35997  3599.7       53.64         0.30        5510.76 -4.00      -0.21   \n",
       "35998  3599.8       54.17         0.21        5525.76 -4.00      -0.19   \n",
       "35999  3599.9       54.54         0.11        5539.14 -3.99      -0.18   \n",
       "36000  3600.0       54.72         0.02        5551.04 -3.99      -0.17   \n",
       "\n",
       "       Tower mom.  \n",
       "0      -806154.06  \n",
       "1      -806570.10  \n",
       "2      -806385.89  \n",
       "3      -805549.79  \n",
       "4      -804060.69  \n",
       "...           ...  \n",
       "35996  -518214.75  \n",
       "35997  -516202.25  \n",
       "35998  -514701.78  \n",
       "35999  -513763.14  \n",
       "36000  -513428.53  \n",
       "\n",
       "[36001 rows x 7 columns]"
      ]
     },
     "execution_count": 4,
     "metadata": {},
     "output_type": "execute_result"
    }
   ],
   "source": [
    "data = pd.read_csv(filename, delimiter = ';', header=2, skiprows=[3])\n",
    "data"
   ]
  },
  {
   "cell_type": "markdown",
   "id": "d84a19d2-baec-4976-96b8-c35e08fa3641",
   "metadata": {},
   "source": [
    "We see that the data set contains\n",
    "* Time in s\n",
    "* Wind speed in m/s\n",
    "* Sea surface offset from 'flat water' conditions in m. This is the wave height\n",
    "* Mooring force in kN. This is the force on the anchor lines  \n",
    "* Tilt in degrees\n",
    "* Nacelle acceleration in m/s$^2$. The nacelle is the 'house' on top of the turbine where the rotor is attached\n",
    "* Tower moment in kN m. This is the torque on from the tower moving with respect to the foundation.  \n",
    "\n",
    "We make arrays out of the different columns. "
   ]
  },
  {
   "cell_type": "code",
   "execution_count": 5,
   "id": "9679605a-ab35-4947-88a5-4bdd08bad926",
   "metadata": {},
   "outputs": [],
   "source": [
    "t = np.array(data['Time']) \n",
    "seaSurface = np.array(data['Sea surface'])\n",
    "tilt = np.array(data['Tilt'])\n",
    "mooring = np.array(data['Mooring force'])\n",
    "nacAcc = np.array(data['Nac. acc.'])\n",
    "towerMom = np.array(data['Tower mom.'])\n",
    "windSpeed = np.array(data['Wind speed'])\n"
   ]
  },
  {
   "cell_type": "markdown",
   "id": "1e90874d-127d-4174-a362-66324ee1e595",
   "metadata": {},
   "source": [
    "We can now visualize the data. For instance the sea level. Run the cell to see the output."
   ]
  },
  {
   "cell_type": "code",
   "execution_count": 6,
   "id": "a1f0cb06-8343-4a4d-b049-52d2bbf5f8df",
   "metadata": {},
   "outputs": [
    {
     "data": {
      "text/plain": [
       "Text(0, 0.5, 'Sea level (m)')"
      ]
     },
     "execution_count": 6,
     "metadata": {},
     "output_type": "execute_result"
    },
    {
     "data": {
      "image/png": "[encoded data removed]",
      "text/plain": [
       "<Figure size 432x288 with 1 Axes>"
      ]
     },
     "metadata": {},
     "output_type": "display_data"
    },
    {
     "data": {
      "image/png": "[encoded data removed]",
      "text/plain": [
       "<Figure size 432x288 with 1 Axes>"
      ]
     },
     "metadata": {},
     "output_type": "display_data"
    }
   ],
   "source": [
    "\n",
    "# We plot the sea level as a function of the time\n",
    "plt.plot(t,seaSurface,'.')\n",
    "plt.xlabel('Time (s)')\n",
    "plt.ylabel('Sea level (m)')\n",
    "\n",
    "#This looks a bit messy!\n",
    "\n",
    "# Let's consider a small time window of 5 minutes = 300 s.\n",
    "plt.figure()\n",
    "plt.plot(t[(t>400) & (t<700)], seaSurface[(t>400) & (t<700)],'.')\n",
    "plt.xlabel('Time (s)')\n",
    "plt.ylabel('Sea level (m)')\n"
   ]
  },
  {
   "cell_type": "markdown",
   "id": "c450d0c6-9e10-49f7-8793-d5f1761d1d19",
   "metadata": {},
   "source": [
    "We see that the system is subject to rather strong moments. We also see that it is useful to slice an array to a specific time window.\n",
    "\n",
    "It may also later become useful to normalize two arrays to make it easier to compare them. Therefore, we define the following two functions:"
   ]
  },
  {
   "cell_type": "code",
   "execution_count": 7,
   "id": "a9b4613a-453d-4a89-845a-ddb9660efe5e",
   "metadata": {},
   "outputs": [],
   "source": [
    "def sliceArray(array, t, mintime, maxtime):\n",
    "    # To slice in time we select only datapoints satisfying the greater than \n",
    "    # and smaller than requirements.\n",
    "    slicedArray = array[(t>mintime) & (t<= maxtime)]\n",
    "    return slicedArray\n",
    "\n",
    "def normalizeArray(array):\n",
    "    # To normalize an array, we subtract the minimum value \n",
    "    # and divide by the maximum value\n",
    "    normalizedArray = (array-min(array))/max(array-min(array))\n",
    "    return normalizedArray"
   ]
  },
  {
   "cell_type": "markdown",
   "id": "bb675771",
   "metadata": {},
   "source": [
    "# Your tasks\n",
    "**Note:** Please continue this notebook and do all the following tasks within that notebook. Please comment appropriately all code-blocks and perform the necessary discussions of your results in Markup cells. All plots must have appropriate axes-labels and a title! Your project submission will consist of the modified notebook.\n",
    "\n",
    "0. From looking at the figure where the different parameters are shown, which quantities would you expect to be correlated? (0 points, but give it a thought!)\n",
    "\n",
    "\n",
    "1. Use the ```numpy``` functionality to find the maximum and minimum values and answer the following questions: How far above and below the normal sea level does the sea get? How far are these events from each other in time?  What is the maximal wind speed in km/h? What is the biggest moment experienced by the tower - do you think the sign matters in this case?\n",
    "\n",
    "**Hint** you can use ```np.argmax``` and ```np.argmin``` or ```np.where``` to answer the time-difference question.\n",
    "\n"
   ]
  },
  {
   "cell_type": "code",
   "execution_count": 13,
   "id": "bf0198b8-97df-4448-a805-800c2c1c1491",
   "metadata": {},
   "outputs": [
    {
     "name": "stdout",
     "output_type": "stream",
     "text": [
      "The above sea level is : 11.05, the time moment is : 1935.0\n",
      "The below sea level is : -10.69, the time moment is : 523.5\n",
      "The maximal wind speed is : 70.31km/h\n"
     ]
    }
   ],
   "source": [
    "# Your solution here\n",
    "# How far above and below the normal sea level does the sea get?\n",
    "print('The above sea level is : ' + str(np.max(seaSurface))+', the time moment is : '+str(t[np.argmax(seaSurface)]))\n",
    "print('The below sea level is : ' + str(np.min(seaSurface))+', the time moment is : '+str(t[np.argmin(seaSurface)]))\n",
    "print('The maximal wind speed is : ' +str(np.max(windSpeed))+'km/h')\n"
   ]
  },
  {
   "cell_type": "markdown",
   "id": "bd41d172-0cbe-4340-8cac-14dc61743cca",
   "metadata": {},
   "source": [
    "\n",
    "2. Normalize and compare the different datasets to each other by plotting them together for a time window of your choice. It can be useful to separate the different plots with an offset as here:\n",
    "```plt.plot(t,windSpeedNorm+0); plt.plot(t,seaSurfaceNorm+1)```\n",
    "Does any of the datasets seem completely uncorrelated with the others? \n",
    "\n",
    "    We observe that the acceleration of the nacelle and the tower moment are correlated. Why do you think this is the case? How do you think it scales? \n",
    "    \n",
    "    ***Hint:*** Which of Newton's laws would describe such a correlation?\n",
    "\n"
   ]
  },
  {
   "cell_type": "code",
   "execution_count": 23,
   "id": "6f5654df-3b8e-462a-a223-31a7b4bf6aa3",
   "metadata": {},
   "outputs": [
    {
     "data": {
      "image/png": "[encoded data removed]",
      "text/plain": [
       "<Figure size 432x288 with 1 Axes>"
      ]
     },
     "metadata": {},
     "output_type": "display_data"
    },
    {
     "data": {
      "text/plain": [
       "[<matplotlib.lines.Line2D at 0x7fbbd0b0eac0>]"
      ]
     },
     "execution_count": 23,
     "metadata": {},
     "output_type": "execute_result"
    },
    {
     "data": {
      "image/png": "[encoded data removed]",
      "text/plain": [
       "<Figure size 432x288 with 1 Axes>"
      ]
     },
     "metadata": {},
     "output_type": "display_data"
    }
   ],
   "source": [
    "# Your solution here\n",
    "# timestart & timeend for the time window\n",
    "timestart=400\n",
    "timeend=500\n",
    "timestart=int(timestart)\n",
    "timeend=int(timeend)\n",
    "\n",
    "# use normalizeArray to have windSpeed and seaSurface be normalized\n",
    "windSpeedNorm=normalizeArray(windSpeed)\n",
    "seaSurfaceNorm=normalizeArray(seaSurface)\n",
    "\n",
    "# plot figure\n",
    "plt.plot(t[(t>timestart) & (t<timeend)],windSpeedNorm[(t>timestart) & (t<timeend)]+0)\n",
    "plt.show()\n",
    "plt.plot(t[(t>timestart) & (t<timeend)],seaSurface[(t>timestart) & (t<timeend)]+1)\n",
    "plt.show()"
   ]
  },
  {
   "cell_type": "markdown",
   "id": "dbbee1d3-3b39-4e93-843d-6af89dc45cb7",
   "metadata": {},
   "source": [
    "\n",
    "\n",
    "3. We will test whether the datasets are correlated by calculating the correlation between them. \n",
    "\n",
    "    The correlation between two parameters can be estimated with the correlation coefficient, which depends on the covariance. \n",
    "    The covariance is defined as\n",
    "    \n",
    "    \\begin{align}\n",
    "    \\mathrm{cov}(X_1, X_2) = \\left\\langle(X_1-\\langle X_1 \\rangle) \\cdot ( X_2-\\langle X_2 \\rangle )\\right\\rangle\n",
    "    \\end{align}\n",
    "    \n",
    "    where we use $\\langle \\cdots \\rangle$ as the expectation value, such that $\\langle X_1 \\rangle$ is the mean of the variable $X_1$. Note how the covariance resembles to the variance $\\mathrm{var}(X_1) = \\left\\langle(X_1-\\langle X_1 \\rangle)^2 \\right\\rangle$.\n",
    "    \n",
    "    The covariance between $X_1$ and $X_2$ describes to how large a degree the variation of $X_1$ and $X_2$ is related. To compare covariances it is sensible to normalize with the variances of the two parameters. This gives us the correlation coefficient, which is defined as \n",
    "        \n",
    "    \\begin{align}\n",
    "    \\mathrm{corr}(X_1, X_2) = \\frac{\\left\\langle(X_1-\\langle X_1 \\rangle) \\cdot ( X_2-\\langle X_2 \\rangle )\\right\\rangle}{\\sqrt{\\mathrm{var}(X_1)}\\cdot \\sqrt{\\mathrm{var}(X_2)}}\n",
    "    \\end{align}\n",
    "    \n",
    "    A correlation parameter close to 1 means that the variation of $X_1$ and $X_2$ is strongly correlated. A value close to zero means that the parameters are not varying together. A value close to -1 means that they are anti-correlated: If one goes up, the other one goes down, so to say.\n",
    "\n",
    "    Calculate the correlation parameter and find\n",
    "    - the parameters which are most and least related to the sea surface level.\n",
    "    - the parameters which are most and least related to tower moment.\n",
    "    \n",
    "    Are you surprised by the result?"
   ]
  },
  {
   "cell_type": "code",
   "execution_count": 42,
   "id": "59037654-208c-4700-a6ce-3dc7c26a9cd6",
   "metadata": {},
   "outputs": [
    {
     "name": "stdout",
     "output_type": "stream",
     "text": [
      "[0.00204833        nan 0.39614196 0.13465198 0.62124185 0.53850919\n",
      " 0.0258169 ]\n",
      "[0.01316665 0.53850919 0.60991686 0.64558759 0.90473043        nan\n",
      " 0.02184913]\n",
      "4\n",
      "the most correlation variable with seaSurface is nacAcc\n",
      "the minimal correlation variable with seaSurface is t\n",
      "the most correlation variable with towerMon is nacAcc\n",
      "the minimal correlation variable with towerMon is t\n"
     ]
    }
   ],
   "source": [
    "# Your solution here\n",
    "\n",
    "\n",
    "def covariance(x1,x2):\n",
    "    # def function of covariance of x1 and x2\n",
    "    # both x1 and x2 should be array and same sizes\n",
    "    return np.mean((x1-np.mean(x1))*(x2-np.mean(x2)))\n",
    "\n",
    "def correlation(x1,x2):\n",
    "    # def function of correlation of x1 and x2\n",
    "    return covariance(x1,x2)/(np.var(x1)**0.5*np.var(x2)**0.5)\n",
    "\n",
    "parameter=[t,seaSurface,tilt,mooring,nacAcc,towerMom,windSpeed]\n",
    "# parameter is a 2d array, ready for correlation compare\n",
    "parameter_str=['t','seaSurface','tilt','mooring','nacAcc','towerMom','windSpeed']\n",
    "\n",
    "cor_result=np.zeros((7,7))\n",
    "# save correlation result in cor_result\n",
    "for i in range(7):\n",
    "    for j in range(7):\n",
    "        if i==j:\n",
    "            cor_result[i,j]=np.nan\n",
    "        else:\n",
    "            cor_result[i,j]=correlation(parameter[i],parameter[j])\n",
    "cor_seaSurface=cor_result[1,:]\n",
    "cor_towerMon=cor_result[-2,:]\n",
    "cor_seaSurface_distance=np.abs(cor_seaSurface)\n",
    "cor_towerMon_distance=np.abs(cor_towerMon)\n",
    "print(cor_seaSurface_distance)\n",
    "print(cor_towerMon_distance)\n",
    "print(np.nanargmax(cor_towerMon_distance))\n",
    "print('the most correlation variable with seaSurface is ' + parameter_str[np.nanargmax(cor_seaSurface_distance)])\n",
    "print('the minimal correlation variable with seaSurface is '+parameter_str[np.nanargmin(cor_seaSurface_distance)])\n",
    "\n",
    "print('the most correlation variable with towerMon is '+parameter_str[np.nanargmax(cor_towerMon_distance)])\n",
    "print('the minimal correlation variable with towerMon is '+parameter_str[np.nanargmin(cor_towerMon_distance)])\n"
   ]
  },
  {
   "cell_type": "markdown",
   "id": "4485764d-c4e7-4b96-bb31-afbb4ddbf271",
   "metadata": {},
   "source": [
    "4. In exercise 1 we found the minima and maxima of the sea height and we investigated how far apart the deepest through and the highest peak were.\n",
    "    In stability analysis the maximal values are not always of immediate interest, because these values may only appear very far apart in time. Instead it may be more interesting to consider how many small cycles some parameter performs. \n",
    "\n",
    "- For the mooring force, find all the local minima and maxima for the mooring force time series between t = 0 s and t = 2000 s. You will see methods for doing this in the lecture review.\n",
    "- Make a histogram of the difference in force between each minima and maxima. Remember to do this on both sides of a peak. The figures below show the first four differences to calculate for the interval from 400 s to 700 s, and a histogram with 10 bins of the forces. Use the histogram to check your method and create a histogram for the mooring force time series between t = 0 s and t = 2000 s.\n",
    "- Compare the histogram with the difference between the global maximum and global minimum and comment.\n",
    "\n",
    "\n",
    "\n",
    "<img src=\"figs/mooringForceMaxMinHistogram.png\" width=800px/>\n",
    "\n"
   ]
  },
  {
   "cell_type": "code",
   "execution_count": 11,
   "id": "fd0d4aad-b482-409a-b254-0aa1808dbf1d",
   "metadata": {},
   "outputs": [],
   "source": [
    "# Your solution here"
   ]
  },
  {
   "cell_type": "markdown",
   "id": "8e8477ab-cbfa-4f49-a09e-21e40ae41bc8",
   "metadata": {},
   "source": [
    "5. We would like to dimension the tower on the basis of the maximum tower bottom moment. \n",
    "    The tower is a hollow steel cylinder with an outer diameter of 10 m and a wall thickness T. \n",
    "\n",
    "    The bending stress in a hollow cylinder is\n",
    "    \\begin{align}\n",
    "    s = \\frac{M_b}{W}\n",
    "    \\end{align}\n",
    "    where $s$ is the stress, $M_b$ is the maximum bending moment, and $W$ is the moment of resistance. \n",
    "    The bending stress needs to be lower than the maximum allowable stress. For the common steel type, FE 510, the maximum allowable stress is 345 MPa. \n",
    "\n",
    "    The moment of resistance for a hollow cylinder is\n",
    "    \\begin{align}\n",
    "    W = \\frac{\\pi}{64}\\frac{D_o^4 – D_i^4}{D_o}\n",
    "    \\end{align}\n",
    "    where $D_o$ is the outer diameter and $D_i$ is the inner diameter. \n",
    "\n",
    "    Write a function that returns the minimum allowable wall thickness T of the tower for a given maximum stress and calculate for the maximum stress recorded during the one hour simulation period.\n",
    "    Does the result surprise you?\n",
    "    "
   ]
  },
  {
   "cell_type": "code",
   "execution_count": 12,
   "id": "c1363b04-c6a7-4487-b6c6-ddb890f079ff",
   "metadata": {},
   "outputs": [],
   "source": [
    "# Your solution here"
   ]
  },
  {
   "cell_type": "markdown",
   "id": "e3601af7-c3cf-4819-a26c-001d6420a56a",
   "metadata": {},
   "source": [
    "## Additional information - not related to programming per se\n",
    "\n",
    "For more information on floating wind turbines, see\n",
    "\n",
    "https://en.wikipedia.org/wiki/Floating_wind_turbine\n",
    "\n",
    "This promotional video shows the installation of a 3.6 MW demonstration turbine on a floating foundation https://dock90.com/tetraspar/\n",
    "\n",
    "The data used in this project was calculated in https://www.orcina.com/orcaflex/ and kindly shared by the TetraSpar Demo team."
   ]
  }
 ],
 "metadata": {
  "interpreter": {
   "hash": "adf68bc6347183579421326ec9cb87631df8abcb31c9bb8191f268af186d69ea"
  },
  "kernelspec": {
   "display_name": "Python 3.8.5 ('base')",
   "language": "python",
   "name": "python3"
  },
  "language_info": {
   "codemirror_mode": {
    "name": "ipython",
    "version": 3
   },
   "file_extension": ".py",
   "mimetype": "text/x-python",
   "name": "python",
   "nbconvert_exporter": "python",
   "pygments_lexer": "ipython3",
   "version": "3.8.5"
  }
 },
 "nbformat": 4,
 "nbformat_minor": 5
}
