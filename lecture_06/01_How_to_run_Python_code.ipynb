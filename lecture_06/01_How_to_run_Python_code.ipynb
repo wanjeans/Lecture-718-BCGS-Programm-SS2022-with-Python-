{
 "cells": [
  {
   "cell_type": "markdown",
   "metadata": {},
   "source": [
    "# Running Python code (outside Jupyter Notebook)"
   ]
  },
  {
   "cell_type": "markdown",
   "metadata": {},
   "source": [
    "**Important Note:**\n",
    "Run the executables `python3` and `ipython3` to launch the Python or IPython shells. **Do not** use `python` or `ipython`. On most systems they are linked to *Python 2* versions!"
   ]
  },
  {
   "cell_type": "markdown",
   "metadata": {},
   "source": [
    "## Interactively (demo)"
   ]
  },
  {
   "cell_type": "markdown",
   "metadata": {},
   "source": [
    "To run Python code interactively, one can use the standard Python prompt, which can be launched by typing ``python3`` in your standard shell:\n",
    "\n",
    "    $ python3\n",
    "    Python 3.6.1 |Anaconda custom (64-bit)| (default, Mar 22 2017, 19:54:23) \n",
    "    [GCC 4.4.7 20120313 (Red Hat 4.4.7-1)] on linux\n",
    "    Type \"help\", \"copyright\", \"credits\" or \"license\" for more information.\n",
    "\n",
    "The ``>>>`` indicates that Python is ready to accept commands. If you type ``a = 1`` then press enter, this will assign the value ``1`` to ``a``. If you then type ``a`` you will see the value of ``a`` (this is equivalent to ``print a``):\n",
    "\n",
    "    >>> a = 1\n",
    "    >>> a\n",
    "    1\n",
    "\n",
    "The Python shell can execute any Python code, even multi-line statements, though it is often more convenient to use Python non-interactively for such cases.\n",
    "\n",
    "The default Python shell is very limited, and in practice, you will want instead to use the IPython (or interactive Python) shell. This is an add-on package that adds many features to the default Python shell, including the ability to edit and navigate the history of previous commands, as well as the ability to tab-complete variable and function names. To start up IPython, type:\n",
    "\n",
    "    $ ipython3\n",
    "    Python 3.6.1 |Anaconda custom (64-bit)| (default, Mar 22 2017, 19:54:23) \n",
    "    Type \"copyright\", \"credits\" or \"license\" for more information.\n",
    "\n",
    "    IPython 5.1.0 -- An enhanced Interactive Python.\n",
    "    ?         -> Introduction and overview of IPython's features.\n",
    "    %quickref -> Quick reference.\n",
    "    help      -> Python's own help system.\n",
    "    object?   -> Details about 'object', use 'object??' for extra details.\n",
    "\n",
    "    In [1]:\n",
    "\n",
    "The ``>>>`` symbols are now replaced by ``In [x]``, and output, when present, is prepended with ``Out [x]``. If we now type the same commands as before, we get:\n",
    "\n",
    "    In [1]: a = 1\n",
    "\n",
    "    In [2]: a\n",
    "    Out[2]: 1\n",
    "\n",
    "If you now type the up arrow twice, you will get back to ``a = 1``."
   ]
  },
  {
   "cell_type": "markdown",
   "metadata": {},
   "source": [
    "**Note:** The *ipython3*-interpreter is a console version of the jupyter notebooks that we are using in class."
   ]
  },
  {
   "cell_type": "markdown",
   "metadata": {},
   "source": [
    "## Running scripts (demo)"
   ]
  },
  {
   "cell_type": "markdown",
   "metadata": {},
   "source": [
    "While the interactive Python mode is very useful to exploring and trying out code, you will eventually want to write a script to record and reproduce what you did, or to do things that are too complex to type in interactively (defining functions, classes, etc.). To write a Python script, just use your favorite code editor to put the code in a file with a ``.py`` extension. For example, we can create a file called ``test.py`` containing:\n",
    "\n",
    "    a = 1\n",
    "    print(a)\n",
    "\n",
    "On the Physics computer CIP pool machines or within our JupyterLab-environment, you can use for example the ``emacs`` editor which you can open by typing:\n",
    "    \n",
    "    emacs &\n",
    "    \n",
    "We can then run the script on the command-line with:\n",
    "\n",
    "    $ python3 test.py\n",
    "    1\n",
    "\n",
    "Note: The ``print`` statement is necessary, because typing ``a`` on its own will only print out the value in interactive mode. In scripts, the printing has to be explicitly requested with the print command. To print multiple variables, just separate them with a comma after the print command:\n",
    "\n",
    "    print(a, 1.5, \"spam\")"
   ]
  },
  {
   "cell_type": "markdown",
   "metadata": {},
   "source": [
    "**Note:** There are *very good* integrated development environments around for *Python*. Many people told me that [spyder](https://github.com/spyder-ide) is *extremely good* but I never used it. It is certainly worth to check it out on your own! It is part of the [Anaconda distribution](https://www.continuum.io/downloads) and also installed in the CIP-Pool and on the AIfA machines."
   ]
  },
  {
   "cell_type": "markdown",
   "metadata": {},
   "source": [
    "## Combining interactive and non-interactive use (demo)"
   ]
  },
  {
   "cell_type": "markdown",
   "metadata": {},
   "source": [
    "It can sometimes be useful to run a script to set things up, and to continue in interactive mode. This can be done using the ``%run`` IPython command to run the script, which then gets executed. The IPython session then has access to the last state of the variables from the script:\n",
    "\n",
    "    $ ipython3\n",
    "    Python 3.6.1 |Anaconda custom (64-bit)| (default, Mar 22 2017, 19:54:23) \n",
    "    Type \"copyright\", \"credits\" or \"license\" for more information.\n",
    "\n",
    "    IPython 5.1.0 -- An enhanced Interactive Python.\n",
    "    ?         -> Introduction and overview of IPython's features.\n",
    "    %quickref -> Quick reference.\n",
    "    help      -> Python's own help system.\n",
    "    object?   -> Details about 'object', use 'object??' for extra details.\n",
    "\n",
    "    In [1]:  %run test.py\n",
    "    1\n",
    "\n",
    "    In [2]: a + 1\n",
    "    Out[2]: 2"
   ]
  },
  {
   "cell_type": "markdown",
   "metadata": {
    "tags": []
   },
   "source": [
    "## Integrated Development Environments (IDEs; demo)"
   ]
  },
  {
   "cell_type": "markdown",
   "metadata": {},
   "source": [
    "Python-IDEs combine an editor (optimised for programming) with `ipython`. It is probably the easiest method to start from scratch for beginners. Goods Python-IDEs such as `spyder` are available for each operating system."
   ]
  },
  {
   "cell_type": "markdown",
   "metadata": {
    "tags": []
   },
   "source": [
    "# More on the Jupyter Notebook"
   ]
  },
  {
   "cell_type": "markdown",
   "metadata": {
    "tags": []
   },
   "source": [
    "### Running Linux commands within notebooks"
   ]
  },
  {
   "cell_type": "code",
   "execution_count": null,
   "metadata": {},
   "outputs": [],
   "source": [
    "# You can execute arbitrary Linux shell-commands within a Code-cell.\n",
    "# Just prepend Linux-commands with an exclamation point:\n",
    "#\n",
    "# list current directories contents\n",
    "!ls -F\n",
    "# print working dirctory\n",
    "!pwd\n",
    "# change directoty; NOTE: to change the directory for the IPython\n",
    "# session, you need to prepend 'cd' with a percent sign (jupyter magic)\n",
    "%cd code\n",
    "!ls\n",
    "!cat lecture.py\n",
    "%cd .."
   ]
  },
  {
   "cell_type": "markdown",
   "metadata": {},
   "source": [
    "### Run and examine script-code (from disk or the WWW)"
   ]
  },
  {
   "cell_type": "code",
   "execution_count": null,
   "metadata": {},
   "outputs": [],
   "source": [
    "%run code/lecture.py"
   ]
  },
  {
   "cell_type": "code",
   "execution_count": null,
   "metadata": {},
   "outputs": [],
   "source": [
    "# list variables currently defined within this notebook.\n",
    "%whos"
   ]
  },
  {
   "cell_type": "code",
   "execution_count": null,
   "metadata": {},
   "outputs": [],
   "source": [
    "%load https://matplotlib.org/mpl_examples/lines_bars_and_markers/line_demo_dash_control.py"
   ]
  },
  {
   "cell_type": "markdown",
   "metadata": {},
   "source": [
    "### Help on Python commands and functions"
   ]
  },
  {
   "cell_type": "code",
   "execution_count": null,
   "metadata": {},
   "outputs": [],
   "source": [
    "# You can obtain help on an arbitrary Python-command, function or object by appending a '?' to its name\n",
    "import numpy as np\n",
    "\n",
    "a = 1\n",
    "s = \"Thomas\""
   ]
  },
  {
   "cell_type": "code",
   "execution_count": null,
   "metadata": {},
   "outputs": [],
   "source": [
    "#print?\n",
    "#s?\n",
    "#help(print)   # equivalent to the previous command\n",
    "#help(s)            # obtain help on the object that 's' points to\n",
    "#numpy.cos?    # obtain help on the cos-function within the numpy module"
   ]
  },
  {
   "cell_type": "code",
   "execution_count": null,
   "metadata": {},
   "outputs": [],
   "source": [
    "# You can search for function-names\n",
    "import numpy as np\n",
    "\n",
    "# You want to find out, how the numpy-function for arcus-cosinus is. You know that\n",
    "# the function name certainly has cos in it:\n",
    "np.*cos*?\n",
    "# list all numpy commands ending with sin\n",
    "#numpy.*sin?"
   ]
  },
  {
   "cell_type": "code",
   "execution_count": null,
   "metadata": {},
   "outputs": [],
   "source": [
    "# You can search for 'methods' (functions) that can be applied to objects:\n",
    "s = \"Hello Thomas\"\n",
    "print(s)\n",
    "print(len(s))\n",
    "# use <TAB>-completion to list all methods available for s\n",
    "# s."
   ]
  }
 ],
 "metadata": {
  "kernelspec": {
   "display_name": "Python 3 (ipykernel)",
   "language": "python",
   "name": "python3"
  },
  "language_info": {
   "codemirror_mode": {
    "name": "ipython",
    "version": 3
   },
   "file_extension": ".py",
   "mimetype": "text/x-python",
   "name": "python",
   "nbconvert_exporter": "python",
   "pygments_lexer": "ipython3",
   "version": "3.7.13"
  }
 },
 "nbformat": 4,
 "nbformat_minor": 4
}
