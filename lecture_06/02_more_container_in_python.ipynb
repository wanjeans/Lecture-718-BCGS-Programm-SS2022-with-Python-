{
 "cells": [
  {
   "cell_type": "markdown",
   "metadata": {},
   "source": [
    "# More container in Python (tuples and dictionaries)\n",
    "Container come closest to what you know as *arrays* in other languages. However, the Python container are much richer and more powerful than arrays in C or Fortran.\n",
    "\n",
    "We distinguish containers with the following propoerties:\n",
    "- Which data can be put in a specific container type (only specifc data, homegeneous data)?\n",
    "- Is a container mutable (can it be modified once it is created)?\n",
    "- Is there an order in the containers data (all containers that we treat here are ordered)"
   ]
  },
  {
   "cell_type": "markdown",
   "metadata": {},
   "source": [
    "## Add-on from last lecture\n",
    "Do not change a container while iterating over it!"
   ]
  },
  {
   "cell_type": "code",
   "execution_count": null,
   "metadata": {},
   "outputs": [],
   "source": [
    "l = [1, 2, 3, 4] \n",
    "\n",
    "for i in l:\n",
    "    print(i)\n",
    "    l.remove(i) # remove element i from container\n",
    "\n",
    "    # You probably expect an empty list here, isn't it?\n",
    "print(l)"
   ]
  },
  {
   "cell_type": "markdown",
   "metadata": {},
   "source": [
    "Make an explicit copy in such circumstances!"
   ]
  },
  {
   "cell_type": "code",
   "execution_count": null,
   "metadata": {},
   "outputs": [],
   "source": [
    "l = [1, 2, 3, 4]\n",
    "m = l.copy()  # you discussed this with your tutor for numpy-arrays, right?\n",
    "\n",
    "for i in l:\n",
    "    print(i)\n",
    "    m.remove(i)\n",
    "    \n",
    "print(m)    "
   ]
  },
  {
   "cell_type": "markdown",
   "metadata": {},
   "source": [
    "## Tuples\n",
    "Tuples are cousins of lists which are immutable! They cannot be changed once they are created.\n",
    "Whenever you come across a tuple, it is clear in general, why it is an object that should not be changed."
   ]
  },
  {
   "cell_type": "code",
   "execution_count": null,
   "metadata": {},
   "outputs": [],
   "source": [
    "t = (1, 2, 3, 4)  # tuples live in parentheses\n",
    "print(type(t))\n",
    "print(t[1:3])     # slicing and all over other element accesses that do not change the tuple as for lists\n",
    "\n",
    "v = (1,)  # definition of a tuple with one element!\n",
    "print(v)\n",
    "print(type(v))\n",
    "\n",
    "u = 'a', 2.0, 5   # The parentheses can be ommitted for tuple creation!\n",
    "print(type(u))\n",
    "u[1] = 'b'"
   ]
  },
  {
   "cell_type": "markdown",
   "metadata": {},
   "source": [
    "Note the tuple-type in the following examples!"
   ]
  },
  {
   "cell_type": "code",
   "execution_count": null,
   "metadata": {},
   "outputs": [],
   "source": [
    "import numpy as np\n",
    "\n",
    "def xy2polar(x, y):\n",
    "    \"\"\"\n",
    "    We saw this before\n",
    "    \"\"\"\n",
    "    r = np.sqrt(x**2 + y**2)\n",
    "    theta = np.arctan2(y, x)\n",
    "    \n",
    "    return r, theta\n",
    "\n",
    "x, y = 1, 2   # simultaneous assigment to two variables\n",
    "print(type(x))\n",
    "\n",
    "z = 1, 2  # creation of a tuple!\n",
    "print(type(z))\n",
    "\n",
    "r, theta = xy2polar(1.0, 1.0)\n",
    "print(r, theta)     # function with two arguments and two\n",
    "                    # return values stored in two variables\n",
    "    \n",
    "y = (2.0, 2.0)\n",
    "z = xy2polar(*y)  # the two-element tuple is 'unpacked' into\n",
    "                  # two arguments. The function result is a tuple!\n",
    "\n",
    "print(type(z))\n",
    "print(z)\n",
    "\n",
    "r1, theta1 = z     # 'unpack a two-elements tuple' into two variables\n",
    "print(r1, theta1)"
   ]
  },
  {
   "cell_type": "markdown",
   "metadata": {},
   "source": [
    "## Dictionaries"
   ]
  },
  {
   "cell_type": "markdown",
   "metadata": {},
   "source": [
    "Dictionaries (associative arrays) are unordered containers which do not access their elements with an index but with arbitrary(!) immutable objects."
   ]
  },
  {
   "cell_type": "code",
   "execution_count": null,
   "metadata": {},
   "outputs": [],
   "source": [
    "# representation of student data with lists\n",
    "\n",
    "# Data from a student: first name, last name, weight, height\n",
    "student1 = [ \"Harry\", \"Potter\", 55, 160 ]\n",
    "student2 = [ \"Ron\", \"Weasley\", 65, 155 ]\n",
    "\n",
    "# The position of a date in the list dictates how to access an element - unnatural!\n",
    "print(student1[2]) # gives weight of Harry Potter\n"
   ]
  },
  {
   "cell_type": "code",
   "execution_count": null,
   "metadata": {},
   "outputs": [],
   "source": [
    "# representation of student data with dictionaries\n",
    "\n",
    "# dictionaries consist of (kay,value)-pairs\n",
    "student1 = { \"first_name\": \"Harry\", \"last_name\": \"Potter\" , \"weight\": 55, \"height\": 160 }\n",
    "student2 = { \"first_name\": \"Ron\", \"last_name\": \"Weasly\" , \"weight\": 65, \"height\": 155 }\n",
    "\n",
    "# data can be accessed with their actual meaning:\n",
    "print(student1[\"weight\"])"
   ]
  },
  {
   "cell_type": "markdown",
   "metadata": {},
   "source": [
    "### Important dictionary access functions"
   ]
  },
  {
   "cell_type": "code",
   "execution_count": null,
   "metadata": {},
   "outputs": [],
   "source": [
    "marks = { \"Harry\" : \"B+\", \"Hermione\" : \"A+\", \"Ron\" : \"B-\",\n",
    "          \"Fred\" : \"C\", \"George\": \"C\", \"Nevel\" : \"B\",\n",
    "          \"Lord Voldemort\" : \"F\", \"Ginny\" : \"A\" }\n",
    "\n",
    "# test whether marks has a certain key\n",
    "print(\"Harry\" in marks)\n",
    "print(\"Thomas\" in marks)\n",
    "\n",
    "# obtain lists of keys / values:\n",
    "print(marks.keys(), marks.values())\n",
    "\n",
    "# iterate over the keys of a dictionary:\n",
    "for key in marks.keys():   # equivalent would be: 'for key in marks:'\n",
    "    print(key, marks[key])\n",
    "    \n",
    "# accessing a key that does not exiast returns an error:\n",
    "#print(marks[\"Thomas\"])\n",
    "\n",
    "# retrieve the value of a key. If it does not exist, return a default value:\n",
    "print(marks.get(\"Harry\", \"failed!\"))\n",
    "print(marks.get(\"Thomas\", \"failed!\"))\n",
    "\n",
    "# print a list with key-value tuples:\n",
    "print(marks.items())"
   ]
  },
  {
   "cell_type": "markdown",
   "metadata": {},
   "source": [
    "### Creation of dictionaries"
   ]
  },
  {
   "cell_type": "code",
   "execution_count": null,
   "metadata": {},
   "outputs": [],
   "source": [
    "d = {}   # empty dictionary\n",
    "\n",
    "d[\"Thomas\"] = 65  # new elements are added by value assignment\n",
    "\n",
    "# keys can be ANY immutable object and values can be anything:\n",
    "d[1] = [25, 8, 9]\n",
    "d[42] = \"the meaning of life\"\n",
    "d[3.14159] = \"an approximation of pi\"\n",
    "d[(1, 2)] = \"some coordinate\"\n",
    "\n",
    "print(d.keys())"
   ]
  },
  {
   "cell_type": "markdown",
   "metadata": {},
   "source": [
    "### Example application\n",
    "The following application shows the usage of dictionaries and the interplay between various container types (lists, dictionaries, strings)"
   ]
  },
  {
   "cell_type": "code",
   "execution_count": null,
   "metadata": {},
   "outputs": [],
   "source": [
    "!cat data/KIDS_filters.txt"
   ]
  },
  {
   "cell_type": "code",
   "execution_count": null,
   "metadata": {},
   "outputs": [],
   "source": [
    "# File KIDS_filters.txt contains pointing names and filters in which a\n",
    "# pointing was observed:\n",
    "#\n",
    "# KIDS_0p0_m26p2 i_SDSS\n",
    "# KIDS_0p0_m27p2 g_SDSS\n",
    "# KIDS_0p0_m27p2 i_SDSS\n",
    "# .\n",
    "# .\n",
    "# We want a summary list of all filters in that a pointing\n",
    "# was observed, i.e.\n",
    "#\n",
    "# KIDS_0p0_m27p2 g_SDSS i_SDSS ...\n",
    "# .\n",
    "# .\n",
    "\n",
    "f = open(\"data/KIDS_filters.txt\")\n",
    "\n",
    "filters = {}\n",
    "\n",
    "for line in f:\n",
    "    data = line.strip().split()\n",
    "\n",
    "    # data is in the form [ 'KIDS_0p0_m33p1' , 'g_SDSS' ]\n",
    "    # The following line makes sure that the dictionary-entry\n",
    "    # for KIDS_... exists before appending to its value list.\n",
    "    filters[data[0]] = filters.get(data[0], [])\n",
    "    filters[data[0]].append(data[1])\n",
    "\n",
    "f.close()\n",
    "\n",
    "# print the results:\n",
    "# see the cell below for a demonstration of the string join-method\n",
    "for pointing in filters:\n",
    "    print(f\"{pointing:20s} {' '.join(sorted(filters[pointing]))}\")\n"
   ]
  },
  {
   "cell_type": "code",
   "execution_count": null,
   "metadata": {},
   "outputs": [],
   "source": [
    "# the string-join method concatenates list-entries to a string:\n",
    "l = [ \"data\", \"KIDS\", \"images\" ]\n",
    "\n",
    "s1 = ' '.join(l) # join list elements with a space\n",
    "print(s1)\n",
    "\n",
    "s2 = '/'.join(l) # join list elements with a slash\n",
    "print(s2)"
   ]
  },
  {
   "cell_type": "code",
   "execution_count": null,
   "metadata": {},
   "outputs": [],
   "source": []
  }
 ],
 "metadata": {
  "kernelspec": {
   "display_name": "Python 3 (ipykernel)",
   "language": "python",
   "name": "python3"
  },
  "language_info": {
   "codemirror_mode": {
    "name": "ipython",
    "version": 3
   },
   "file_extension": ".py",
   "mimetype": "text/x-python",
   "name": "python",
   "nbconvert_exporter": "python",
   "pygments_lexer": "ipython3",
   "version": "3.7.13"
  }
 },
 "nbformat": 4,
 "nbformat_minor": 4
}
