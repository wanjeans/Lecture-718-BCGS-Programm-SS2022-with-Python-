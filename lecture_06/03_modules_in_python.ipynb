{
 "cells": [
  {
   "cell_type": "markdown",
   "metadata": {},
   "source": [
    "# Modules in Python\n",
    "Libraries in C or Fortran are *modules* in Python. They contain functions, data structures, and variables which allow you to do specific tasks in only a few lines of code. You should collect own functions and functionalities that you want to use in many scripts in own modules.\n",
    "\n",
    "Modules of the Python core system are referred to as the Standard Library, and you can find a full list of the available functionality in the [Python Documentation](https://docs.python.org/3.5/library/).\n",
    "\n",
    "Essential modules for scientific computing ([numpy](http://www.numpy.org/), [scipy](http://scipy.org/), [matplotlib](http://matplotlib.org/), [sympy](http://www.sympy.org/en/index.html)) are all community-contributed, thrid-party libraries. "
   ]
  },
  {
   "cell_type": "markdown",
   "metadata": {},
   "source": [
    "## Module import\n",
    "There are three ways to import modules and to make available their functionality."
   ]
  },
  {
   "cell_type": "markdown",
   "metadata": {},
   "source": [
    "### Import with the module name"
   ]
  },
  {
   "cell_type": "code",
   "execution_count": null,
   "metadata": {},
   "outputs": [],
   "source": [
    "import math # imports the math-module. We\n",
    "            # only use the numpy-module for math\n",
    "            # and I do it here only for demonstration\n",
    "            # purposes.\n",
    "\n",
    "# start to explore possibilities with the help(), dir() functions, the\n",
    "# question mark and the '*' operators.\n",
    "help(math)\n",
    "#print(math.sin(1.0))"
   ]
  },
  {
   "cell_type": "markdown",
   "metadata": {},
   "source": [
    "### Import with an alias name"
   ]
  },
  {
   "cell_type": "code",
   "execution_count": null,
   "metadata": {},
   "outputs": [],
   "source": [
    "import numpy as np  # we define an alias to access module functions\n",
    "                    # with a shorter name\n",
    "    \n",
    "print(np.cos(0.0))  # instead of numpy.cos(0.0)  "
   ]
  },
  {
   "cell_type": "markdown",
   "metadata": {},
   "source": [
    "### Direct import into the current name-space\n",
    "This method of module import is **strongly** discouraged! It is best to **never** do it!"
   ]
  },
  {
   "cell_type": "code",
   "execution_count": null,
   "metadata": {},
   "outputs": [],
   "source": [
    "from numpy import *   # This imports all module-functions etc. into\n",
    "                      # the global name-space\n",
    "print(cos(0.0))       # The function 'cos' is imported into the global Python\n",
    "                      # name space. Possible conflicts if several modules\n",
    "                      # define functions with the same name occur very quickly!\n",
    "                      # NEVER do this!"
   ]
  },
  {
   "cell_type": "markdown",
   "metadata": {},
   "source": [
    "## The `dir`-function"
   ]
  },
  {
   "cell_type": "markdown",
   "metadata": {},
   "source": [
    "The `dir`-function allows you to abtian a list of everything defined within a module (or any other object)."
   ]
  },
  {
   "cell_type": "code",
   "execution_count": null,
   "metadata": {},
   "outputs": [],
   "source": [
    "import numpy as np\n",
    "\n",
    "v = np.array([1, 2, 3])\n",
    "w = np.array([4, 5, 6])\n",
    "#dir(np)\n",
    "#dir(w)"
   ]
  },
  {
   "cell_type": "markdown",
   "metadata": {},
   "source": [
    "## Own modules\n",
    "For Python to find your modules, they must be located in:\n",
    "- The current directory\n",
    "- In a path defined in the `PYTHONPATH` environment variable (same syntax as `PATH`-variable)."
   ]
  },
  {
   "cell_type": "code",
   "execution_count": null,
   "metadata": {},
   "outputs": [],
   "source": [
    "import sys       # system module\n",
    "\n",
    "print(sys.path)  # The variable sys.path lists all paths in which\n",
    "                 # python searches for modules"
   ]
  },
  {
   "cell_type": "markdown",
   "metadata": {},
   "source": [
    "## Best practises for own modules and some more explanations"
   ]
  },
  {
   "cell_type": "code",
   "execution_count": null,
   "metadata": {},
   "outputs": [],
   "source": [
    "import rpn  # own module simulating a reversed polish notation calculator"
   ]
  },
  {
   "cell_type": "markdown",
   "metadata": {},
   "source": [
    "**Always** write docstrings so that help() and other functions provide necessary infromation on your module!"
   ]
  },
  {
   "cell_type": "code",
   "execution_count": null,
   "metadata": {},
   "outputs": [],
   "source": [
    "help(rpn)"
   ]
  },
  {
   "cell_type": "markdown",
   "metadata": {},
   "source": [
    "Many names and functions within a module are not exposed to the user with the help()-function; especially names containing one or several underscores at the beginning and the end of their names."
   ]
  },
  {
   "cell_type": "code",
   "execution_count": null,
   "metadata": {},
   "outputs": [],
   "source": [
    "dir(rpn)"
   ]
  },
  {
   "cell_type": "code",
   "execution_count": null,
   "metadata": {},
   "outputs": [],
   "source": []
  }
 ],
 "metadata": {
  "anaconda-cloud": {},
  "kernelspec": {
   "display_name": "Python 3 (ipykernel)",
   "language": "python",
   "name": "python3"
  },
  "language_info": {
   "codemirror_mode": {
    "name": "ipython",
    "version": 3
   },
   "file_extension": ".py",
   "mimetype": "text/x-python",
   "name": "python",
   "nbconvert_exporter": "python",
   "pygments_lexer": "ipython3",
   "version": "3.7.13"
  }
 },
 "nbformat": 4,
 "nbformat_minor": 4
}
