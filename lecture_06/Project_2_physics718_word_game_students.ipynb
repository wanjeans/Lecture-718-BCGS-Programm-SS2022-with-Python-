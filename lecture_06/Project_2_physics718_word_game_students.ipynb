{
 "cells": [
  {
   "cell_type": "markdown",
   "metadata": {},
   "source": [
    "# Project 2 - The physics718 Word-Game (Level 1)\n",
    "(This project is based on a project from MIT Open Course Ware [course 6-0001](https://ocw.mit.edu/courses/electrical-engineering-and-computer-science/6-0001-introduction-to-computer-science-and-programming-in-python-fall-2016/))"
   ]
  },
  {
   "cell_type": "markdown",
   "metadata": {
    "tags": []
   },
   "source": [
    "**Project deadline:** This project is due for submission on Wednesday, 25.05.2022, 23:59. Please check carefully the *About the Projects* section below for further details."
   ]
  },
  {
   "cell_type": "markdown",
   "metadata": {},
   "source": [
    "**Important:** You have the choice between two projects. In this one you are asked to program a game and its focus is on elements of the `Python`-language and on programming techniques. The other one is more science oriented. We strongly advise you to read through both project notebooks completely before you take a decision."
   ]
  },
  {
   "cell_type": "markdown",
   "metadata": {
    "jp-MarkdownHeadingCollapsed": true,
    "tags": []
   },
   "source": [
    "## About the Projects\n",
    "- You will get one project approximately every other week.\n",
    "- Besides the homework-assignmentts, you need to solve the projects in order to pass the course. Your final course mark consists of the mean of your project marks. We aim to hand-out six projects during the term and we do not consider the worst project mark for your final course mark. Projects that you do not hand in are counted with a mark of 4.\n",
    "- The projecs needs to be submitted by uploading a Unix-`tar` archive containing the modified files `word_game.py` and `word_module.py` to [Projects/Project 2](https://ecampus.uni-bonn.de/goto_ecampus_exc_2645968.html) on eCampus. The name of your `tar`-archive should be `YOUR_NAME.tgz`. Please only include the two files mentioned above and *no* other files. Your project must be on eCampus by Wednesday, 25.05.2022, 23:59. **No late uploads can be accepted!**\n",
    "- **In contrast to the homework exercises, each student must hand in an own solution for the projects! Of course you can and should discuss problems with each other! However, you need to be able to explain your solution in detail to your tutor and/or the lecturers! We might ask you for an interview about your project if the solution is (close to) identical to another students submission.**\n",
    "\n",
    "**Notes:** (1) This project asks you to write a `Python`-script which needs to be deceloped and executed on a `Linux`-environment, e.g. the `Desktop` within our Jupyterlab system; (2) The tutors, Nina and I are very happy to help you out with difficulties you might have with the project tasks! You can ask questions any time but please do so well in advance of the deadlines!"
   ]
  },
  {
   "cell_type": "markdown",
   "metadata": {},
   "source": [
    "## Introduction\n",
    "\n",
    "When I gave the lecture on-campus, I noted that some students are playing games during lecture - either on their mobile phone or on the computer. This task gives you the opportunity to program an own game while doing a project in passing :-)\n",
    "\n",
    "Please don't be intimidated by the length of this notebook. It is **a lot** to read but the project consists of several small tasks which are very doable. In addition, large parts of the code are already written for you.\n",
    "\n",
    "**Please read the complete notebook once BEFORE doing anything with the provided codes!**\n",
    "\n"
   ]
  },
  {
   "cell_type": "markdown",
   "metadata": {},
   "source": [
    "### Rules of the game\n",
    "\n",
    "We start describing the (basic) rules of the game. It is a Scrabble-like game for a single player. Letters are dealt to players, who then construct one or more words using their letters. Each **valid** word earns the user points, based on the length of the word and the letters in that word.\n",
    "\n",
    "The specific rules are as follows:\n",
    "1. *Dealing and Playing*\n",
    "    1. A player is dealt a hand of `HAND_SIZE` letters of the alphabet, chosen at random with rules on the distribution of consonants, vowels and jokers. This may include multiple instances of a particular letter\n",
    "    2. The player arranges the hand into as many words as they want out of the letters, but using each letter at most once.\n",
    "    3. Some letters may remain unused, though the size of the hand when a word is played\n",
    "does affect its score.\n",
    "2. *Scoring*\n",
    "    1. The score for the hand is the sum of the score for each word formed.\n",
    "    2. The score for a word is the **product** of two components:\n",
    "       1. First component: the sum of the points for letters in the word.\n",
    "       2. Second component: either $7 w_l - 3(n - w_l)$ or 1, whichever value is greater.\n",
    "          $w_l$ is the number of letters used in the word and $n$ is the number of letters available in the current hand.\n",
    "    3. Letters are scored as in Scrabble; `a` is worth 1, `b` is worth 3, `c` is worth 3, `d` is worth 2, `e` is worth 1, and so on. We already have defined the dictionary `SCRABBLE_LETTER_VALUES` with those values for you.\n",
    "    4. **Example:** If $n=6$ and the hand includes 1 `w`, 2 `e`s, and 1 `d` (as well as two other letters), playing the word `weed` would be worth 176 points: $(4+1+1+2) \\cdot (7\\cdot 4 - 3\\cdot(6-4)) = 176$. The first term is the sum of the values of each letter used; the second term is the special computation that rewards a player for playing a longer word, and penalizes them for any left over letters."
   ]
  },
  {
   "cell_type": "markdown",
   "metadata": {
    "tags": []
   },
   "source": [
    "### Getting Started\n",
    "1. In contrast to the homework tasks and project 1, this project needs to be done within a `Linux`-environment. You need to develop a stand-alone script which can be run on a `Linux` command line.\n",
    "2. Store the files [word_game.py](project_code/word_game.py), [word_module.py](project_code/word_module.py), [test_word_module.py](project_code/test_word_module.py) and [words_alpha.txt](project_code/words_alpha.txt) on your disk. For this task, you will need to extend and to modify the files `word_module.py` and `word_game.py`. You *cannot* work with a notebook for this project! **Please do not change/modify any of the files until specified!**\n",
    "3. The file `word_module.py` is a module containing necessary constants and functions for the game. You will first write some new functions in this file and test them one after the other with the code in `test_word_module.py`. At the end, you will write the game execution application in `word_game.py`. This modular approach of program development, where you continuously test small parts and functions before moving on is called `unit-testing`.\n",
    "4. Run the script `test_word_module.py` within the directory where you stored all the code files. This ensures that everything is set up correctly to get you going. The script tests the modules in `word_module.py`. At this point, only the function to load a list of English words from disk is implemented. If everything is fine, you see:\n",
    "\n",
    "```\n",
    "  Loading word list from file...\n",
    "     370099 words loaded.\n",
    "  ----------------------------------------------------------------------\n",
    "  Testing get_word_score...\n",
    "  FAILURE: test_get_word_score()\n",
    "  Expected 0 points but got 'None' for word '', n=7\n",
    "  .\n",
    "  .\n",
    "```\n",
    "\n",
    "   If you obtain an `IOError`, then make sure that `words_alpha.txt` is in the source directory.\n",
    "\n",
    "5. The file `word_module.py` has a number of already-implemented functions you can use while writing up your solution. You can ignore the code between the following comments, though you should read and understand everything else.\n",
    "\n",
    "```\n",
    "  # -----------------------------------\n",
    "\n",
    "  # Helper code\n",
    "  # (you don't need to understand this helper code)\n",
    "  .\n",
    "  .\n",
    "  # (end of helper code)\n",
    "  # -----------------------------------\n",
    "```"
   ]
  },
  {
   "cell_type": "markdown",
   "metadata": {},
   "source": [
    "As mentioned above, the file `test_word_module.py` has test-functions for several of the functions that you will develop within `word_module.py`. Just run it at any time and it will print out whether the following functions are implemented and pass some predefined test cases: `get_word_score`, `update_hand`, `is_valid_word`. There is an additional test for including joker (wildcards) into the game - more about this later. Please note that the tests are not exhaustive and you should add own test cases to `test_word_module.py`. Study the file to see how the tests are implemented."
   ]
  },
  {
   "cell_type": "markdown",
   "metadata": {},
   "source": [
    "### Part 1: Word scores\n",
    "The first step is to implement a function that calculates the score for a single word. Fill in\n",
    "the code for `get_word_score` in `word_module.py` according to the function specifications. When you are done with your implementation, check that you pass the corresponding test with `test_word_module.py`."
   ]
  },
  {
   "cell_type": "markdown",
   "metadata": {},
   "source": [
    "### Part 2: Dealing with hands\n",
    "The next step deals with administrating and representing a concrete hand of letters. Most functions for ths part have already been implemented for you. You should go through the code and understand them!"
   ]
  },
  {
   "cell_type": "markdown",
   "metadata": {},
   "source": [
    "#### The representation of hands\n",
    "A hand is the set of letters held by a player during the game. The player is initially dealt a\n",
    "set of random letters. For example, the player could start out with the following hand: `a`, `q`,\n",
    "`l`, `m`, `u`, `i`, `l`. In our program, a hand will be represented as a dictionary: the keys are\n",
    "(lowercase) letters and the values are the number of times the particular letter is repeated\n",
    "in that hand. For example, the above hand would be represented as:\n",
    "`hand = {'a':1, 'q':1, 'l':2, 'm':1, 'u':1, 'i':1}`\n",
    "Notice how the repeated letter `l` is represented. With a dictionary representation, the\n",
    "usual way to access a value is `hand['a']`, where `'a'` is the key we want to find. However,\n",
    "this only works if the key is in the dictionary; otherwise, we get a `KeyError`. To avoid this,\n",
    "we can instead use the function call `hand.get('a',0)` (see our lecture notes). "
   ]
  },
  {
   "cell_type": "markdown",
   "metadata": {},
   "source": [
    "#### Already defined functions"
   ]
  },
  {
   "cell_type": "markdown",
   "metadata": {},
   "source": [
    "##### Converting words into dictionary representation\n",
    "One useful function we've defined for you is `get_frequency_dict`, defined near the top of\n",
    "`word_module.py` . When given a string of letters as an input, it returns a dictionary where the keys are\n",
    "letters and the values are the number of times that letter is represented in the input string.\n",
    "For example:\n",
    "```\n",
    "In [1]: import word_module as wm\n",
    "\n",
    "In [2]: wm.get_frequency_dict(\"hello\")\n",
    "Out[2]: {'h': 1, 'e': 1, 'l': 2, 'o': 1}\n",
    "\n",
    "```\n",
    "As you can see, this is the same kind of dictionary we use to represent hands."
   ]
  },
  {
   "cell_type": "markdown",
   "metadata": {},
   "source": [
    "##### Displaying a hand\n",
    "Given a hand represented as a dictionary, we want to display it in a user-friendly way. We\n",
    "have provided the implementation for this in the `display_hand` function. Take a few minutes\n",
    "right now to read through this function carefully and understand what it does and how it\n",
    "works."
   ]
  },
  {
   "cell_type": "markdown",
   "metadata": {},
   "source": [
    "##### Generating a random hand\n",
    "The hand a player is dealt is a set of letters chosen at random. We provide you with a\n",
    "function that generates a random hand, `deal_hand`. The function takes as input a positive\n",
    "integer `n` , and returns a new dictionary representing a hand of `n` lowercase letters. Again,\n",
    "take a few minutes to read through this function carefully and understand what it does and\n",
    "how it works."
   ]
  },
  {
   "cell_type": "markdown",
   "metadata": {},
   "source": [
    "#### Functions that you need to write"
   ]
  },
  {
   "cell_type": "markdown",
   "metadata": {},
   "source": [
    "##### Removing letters from a hand (you implement this!)"
   ]
  },
  {
   "cell_type": "markdown",
   "metadata": {},
   "source": [
    "The player starts with a full hand of `n` letters. As the player spells out words, letters from\n",
    "the set are used up. For example, the player could start with the following hand: `a`, `q`, `l`, `m`,\n",
    "`u`, `i`, `l`. The player could choose to play the word `quail`. This would leave the following letters\n",
    "in the player's hand: `l, m`.\n",
    "\n",
    "You will now write a function that takes a hand and a word as inputs, uses letters from that\n",
    "hand to spell the word, and returns a *new* hand containing only the remaining letters. Your\n",
    "function should *not* modify the input hand. For example:\n",
    "```\n",
    "In [1]: import word_module as wm\n",
    "\n",
    "In [2]: hand = {'a':1, 'q':1, 'l':2, 'm':1, 'u':1, 'i':1}\n",
    "\n",
    "In [3]: wm.display_hand(hand)\n",
    "a q l l m u i \n",
    "\n",
    "In [4]: new_hand = wm.update_hand(hand, 'quail')\n",
    "\n",
    "In [5]: new_hand\n",
    "Out[5]: {'a': 0, 'q': 0, 'l': 1, 'm': 1, 'u': 0, 'i': 0}\n",
    "\n",
    "In [6]: wm.display_hand(new_hand)\n",
    "l m \n",
    "\n",
    "In [7]: wm.display_hand(hand)\n",
    "a q l l m u i \n",
    "\n",
    "```\n",
    "**Note:** Alternatively, in the above example, after the call to `update_hand` the value of\n",
    "`new_hand` could be the dictionary `{'l':1, 'm':1}`. The exact value depends on your implementation;\n",
    "but the output of `display_hand()` should be the same in either case."
   ]
  },
  {
   "cell_type": "markdown",
   "metadata": {},
   "source": [
    "**IMPORTANT:** If the player guesses a word that is invalid, either because it is not a real\n",
    "word or because they used letters that they don't actually have in their hand, they still lose\n",
    "the letters from their hand that they did guess as a penalty. Make sure that your\n",
    "implementation accounts for this! Do not assume that the word you are given only uses\n",
    "letters that actually exist in the hand. For example:\n",
    "```\n",
    "In [1]: import word_module as wm\n",
    "\n",
    "In [2]: hand = {'j':2, 'o':1, 'l':1, 'w':1, 'n':2}\n",
    "\n",
    "In [3]: wm.display_hand(hand)\n",
    "j j o l w n n \n",
    "\n",
    "In [4]: hand = wm.update_hand(hand, 'jolly')\n",
    "\n",
    "In [5]: hand\n",
    "Out[5]: {'j': 1, 'o': 0, 'l': 0, 'w': 1, 'n': 2}\n",
    "\n",
    "In [6]: wm.display_hand(hand)\n",
    "j w n n \n",
    "\n",
    "```\n"
   ]
  },
  {
   "cell_type": "markdown",
   "metadata": {},
   "source": [
    "Implement the `update_hand` function according to the specifications in the skeleton code and test it by running `test_word_module.py` at the end."
   ]
  },
  {
   "cell_type": "markdown",
   "metadata": {},
   "source": [
    "### Part 3: Valid words\n",
    "At this point, we have not written any code to verify that a word given by a player obeys the\n",
    "rules of the game. A *valid word* is in the word list (we ignore the case of words here) *and* it\n",
    "is composed entirely of letters from the current hand.\n",
    "\n",
    "Implement the `is_valid_word` function according to its specifications and test it by running `test_word_module.py`."
   ]
  },
  {
   "cell_type": "markdown",
   "metadata": {},
   "source": [
    "### Part 4: Wildcards"
   ]
  },
  {
   "cell_type": "markdown",
   "metadata": {},
   "source": [
    "We want to allow hands to contain wildcard letters, which will be denoted by an asterisk `(*)`.\n",
    "**Wildcards can only replace vowels**. Each hand dealt should initially contain exactly one\n",
    "wildcard as one of its letters. The player **does not** receive any points for using the wildcard\n",
    "(unlike all the other letters), though it **does** count as a used or unused letter when scoring.\n",
    "During the game, a player wishing to use a wildcard should enter `\"*\"` (without quotes)\n",
    "instead of the intended letter. The word-validation code should not make any assumptions\n",
    "about what the intended vowel should be, but should verify that at least one valid word can\n",
    "be made with the wildcard as a vowel in the desired position.\n",
    "The examples below show how wildcards should behave in the context of playing a hand - just pay\n",
    "attention to how the wildcard is handled.\n",
    "\n",
    "#### Example 1 (valid word with wildcard)\n",
    "```\n",
    "Current Hand: c o w s * z\n",
    "Enter word, or \"!!\" to indicate that you are finished: cows\n",
    "\"cows\" earned 198 points. Total: 198 points\n",
    "\n",
    "Current Hand: * z\n",
    "Enter word, or \"!!\" to indicate that you are finished: !!\n",
    "Total score: 198 points\n",
    "```\n",
    "\n",
    "#### Example 2 (invalid word with wildcard)\n",
    "```\n",
    "Current Hand: c o w s * z\n",
    "Enter word, or \"!!\" to indicate that you are finished: c*wz\n",
    "That is not a valid word. Please choose another word.\n",
    "\n",
    "Current Hand: o s\n",
    "Enter word, or \"!!\" to indicate that you are finished: !!\n",
    "Total score: 0 points\n",
    "```"
   ]
  },
  {
   "cell_type": "markdown",
   "metadata": {},
   "source": [
    "Modify the `deal_hand` function to support always giving one wildcard in each hand. Note\n",
    "that `deal_hand` currently ensures that one third of the letters are vowels and the rest are\n",
    "consonants. Leave the consonant count intact, and replace one of the vowel slots with the\n",
    "wildcard. You will also need to modify one or more of the constants defined at the top of the\n",
    "file to account for wildcards.\n",
    "Then modify the `is_valid_word` function to support wildcards.\n",
    "\n",
    "**Hint:** Check to see what possible words can be formed by replacing the wildcard with other vowels.\n",
    "\n",
    "Run `test_word_module.py` to verify your implementations."
   ]
  },
  {
   "cell_type": "markdown",
   "metadata": {},
   "source": [
    "### Part 5: Playing a hand\n",
    "We are now ready to begin writing the code that interacts with the player.\n",
    "Implement the `play_hand` function. This function allows the user to play out a single hand.\n",
    "You'll first need to implement the helper function `calculate_handlen` , which can be done in\n",
    "under five lines of code.\n",
    "To end the hand early, the player **must** type `\"!!\"` (two exclamation points).\n",
    "Note that after the line `# BEGIN PSEUDOCODE` there is a bunch of, well, pseudocode! This is\n",
    "to help guide you in writing your function.\n",
    "\n",
    "You need to test your implementation. You can do this for instance in `ipython3` as in the following exmaple or write small scripts.\n",
    "```\n",
    "In [1]: import word_module as wm\n",
    "\n",
    "In [2]: word_list = wm.load_words()\n",
    "Loading word list from file...\n",
    "   370099 words loaded.\n",
    "\n",
    "In [3]: hand = { 'a' : 1, 'j' : 1, 'e' : 1, 'f' : 1, '*' : 1, 'r' : 1 , 'x' : 1}\n",
    "   ...: \n",
    "\n",
    "In [4]: wm.play_hand(hand, word_list)\n",
    "Current hand:  a j e f * r x \n",
    "Enter word, or \"!!\" to finish this hand: jar\n",
    "\"jar\" earned you 90 points\n",
    "Total points for this hand: 90\n",
    "\n",
    "Current hand:  e f * x \n",
    "Enter word, or \"!!\" to finish this hand: f*x\n",
    "\"f*x\" earned you 216 points\n",
    "Total points for this hand: 306\n",
    "\n",
    "Current hand:  e \n",
    "Enter word, or \"!!\" to finish this hand: !!\n",
    "You finished this hand. Total score: 306\n",
    "\n",
    "Out[4]: 306\n",
    "\n",
    "```\n"
   ]
  },
  {
   "cell_type": "markdown",
   "metadata": {},
   "source": [
    "**Notes:** (1) Your output **should** approximately match the example above. You should **not** print extraneous `None` messages; (2) Please have a look at the code [user_input.py](project_code/user_input.py) which summarises the essentials on interactive user-input in a program. Although many of you already used it in homework-assignments, we did not formally cover it in class."
   ]
  },
  {
   "cell_type": "markdown",
   "metadata": {},
   "source": [
    "### Part 6: Playing a game\n",
    "A game consists of playing multiple hands and adding up the scores.\n",
    "\n",
    "This final implementation of the game is done within `word_game.py`. Just follow he specifications in that source file. If you like, you can implement two special rules as a bonus: (1) The possiblity that a user can (re)play hands and (2) The user can exchange letters for other random letters after he receives a new hand. If you want to do this, you need to first implement the function `substitute_hand` in the `word_module.py`-file. Specifications for both bonus tasks are within the `word_game.py`-file.\n",
    "\n",
    "**Note:** The original game starts with a hand of seven letters. As a non-native English speaker, I found this too difficult for me and I play the game with hands of ten letters. You can choose your own hand-size of course.\n",
    "\n",
    "I give an example game-session of my own implementation below:\n",
    "```\n",
    "thomas@aibn234:~$ python3 word_game.py \n",
    "Welcome to the physics718 word game!\n",
    "====================================\n",
    "\n",
    "Loading word list from file...\n",
    "   370099 words loaded.\n",
    "\n",
    "Now we can start!\n",
    "How many hands do you want to play? 2\n",
    "Current hand:  * a a u k v x c l r p \n",
    "Enter word, or \"!!\" to finish this hand: pack\n",
    "\"pack\" earned you 84 points\n",
    "Total points for this hand: 84\n",
    "\n",
    "Current hand:  * a u v x l r \n",
    "Enter word, or \"!!\" to finish this hand: rul*\n",
    "\"rul*\" earned you 57 points\n",
    "Total points for this hand: 141\n",
    "\n",
    "Current hand:  a v x \n",
    "Enter word, or \"!!\" to finish this hand: !!\n",
    "You finished this hand. Total score: 141\n",
    "\n",
    "Current hand:  * a o u b n y d q z c \n",
    "Enter word, or \"!!\" to finish this hand: bound\n",
    "\"bound\" earned you 136 points\n",
    "Total points for this hand: 136\n",
    "\n",
    "Current hand:  * a y q z c \n",
    "Enter word, or \"!!\" to finish this hand: y*a\n",
    "\"y*a\" earned you 60 points\n",
    "Total points for this hand: 196\n",
    "\n",
    "Current hand:  q z c \n",
    "Enter word, or \"!!\" to finish this hand: !!\n",
    "You finished this hand. Total score: 196\n",
    "\n",
    "\n",
    "Total score over 2 hands: 337\n",
    "Game over!\n",
    "\n",
    "```\n"
   ]
  },
  {
   "cell_type": "markdown",
   "metadata": {},
   "source": [
    "# Congratulations! Have fun playing!"
   ]
  }
 ],
 "metadata": {
  "kernelspec": {
   "display_name": "Python 3 (ipykernel)",
   "language": "python",
   "name": "python3"
  },
  "language_info": {
   "codemirror_mode": {
    "name": "ipython",
    "version": 3
   },
   "file_extension": ".py",
   "mimetype": "text/x-python",
   "name": "python",
   "nbconvert_exporter": "python",
   "pygments_lexer": "ipython3",
   "version": "3.7.13"
  }
 },
 "nbformat": 4,
 "nbformat_minor": 4
}
