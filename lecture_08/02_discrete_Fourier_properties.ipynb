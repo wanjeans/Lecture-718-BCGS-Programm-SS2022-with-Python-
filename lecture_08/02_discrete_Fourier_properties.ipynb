{
 "cells": [
  {
   "cell_type": "markdown",
   "id": "0ff8d6cd-969f-451e-a755-539dc4bd72be",
   "metadata": {},
   "source": [
    "# Properties of Fourier transforms\n",
    "\n",
    "## Let's discuss\n",
    "So far we considered sinusoidal signals. But we can of course Fourier transform whatever we like! \n",
    "\n",
    "We consider: A delta-peak, and a pulse, and a DC signal."
   ]
  },
  {
   "cell_type": "code",
   "execution_count": null,
   "id": "bc635a9b-fa0d-4223-884b-8e85237f8a93",
   "metadata": {},
   "outputs": [],
   "source": [
    "import numpy as np\n",
    "import matplotlib.pyplot as plt\n",
    "\n",
    "numberOfDatapoints = 64\n",
    "\n",
    "signal = np.zeros(numberOfDatapoints)\n",
    "\n",
    "#signal[10] = 1\n",
    "#signal[20:25] = 1\n",
    "signal[:] = 1\n",
    "#signal[len(signal)//2]=1\n",
    "#signal[0:5]=1\n",
    "#signal[-4:]=1\n",
    "\n",
    "plt.plot(signal, '.-')\n",
    "plt.title('signal'); plt.xlabel('sample number');plt.ylabel('amplitude')\n",
    "\n",
    "\n",
    "ft = np.fft.rfft(signal)\n",
    "plt.figure()\n",
    "plt.plot(np.imag(ft),'.-',label=r'Im X')\n",
    "plt.plot(np.real(ft),'.-',label=r'Re X')\n",
    "plt.title('Fourier components');plt.xlabel('Frequency sample number');plt.ylabel('amplitude');plt.legend()\n",
    "\n",
    "plt.figure()\n",
    "plt.plot((np.imag(ft)**2+np.real(ft)**2)**(1/2),'.-')\n",
    "plt.title('Magnitude');plt.xlabel('Frequency sample number');plt.ylabel('amplitude')\n",
    "\n",
    "plt.figure()\n",
    "plt.plot(np.arctan2(np.imag(ft),(0.00001+np.real(ft))),'.-')\n",
    "plt.title('Phase'); plt.xlabel('Freqency sample number');plt.ylabel('amplitude')\n"
   ]
  },
  {
   "cell_type": "markdown",
   "id": "9ea79966-e58c-4808-b890-b5cb6bf52c72",
   "metadata": {},
   "source": [
    "# Why are fourier transforms so useful?\n",
    "\n",
    "First another example"
   ]
  },
  {
   "cell_type": "markdown",
   "id": "82907531-3d24-4349-b952-0d42a386992b",
   "metadata": {},
   "source": [
    "\n",
    "<img src=\"figs/20220519_-_RQO_-_Pulse_Timings_-_ODT_intensity_stabilisation_PD_into_just_PID_plot.png\" width=\"400\" />  <img src=\"figs/20220519_-_RQO_-_Pulse_Timings_-_ODT_intensity_stabilisation_PD_into_T_piece_into_high_Ohm_osci_plot.png\" width=\"400\" /> "
   ]
  },
  {
   "cell_type": "markdown",
   "id": "9435f3f5-3ccc-463e-8c6f-336aa2482c47",
   "metadata": {},
   "source": [
    "We send in some signal, which is supposed to be square - but electronics-components cannot react infinitely fast.\n",
    "\n",
    "You can imagine that a delta-function coming through the system is smeared out over some time.\n",
    "\n",
    "<img src=\"figs/sinle_photon_interferometer.jpg\" width=\"400\" /> \n",
    "\n",
    "\n",
    "To calculate this, we need a convolution of the input and the response. Consider this figure from *The Scientist and Engineer's Guide to\n",
    "Digital Signal Processing* by Steven W. Smith."
   ]
  },
  {
   "cell_type": "markdown",
   "id": "7b38c057-84d8-48f4-9d68-4e9e3f52ea3b",
   "metadata": {},
   "source": [
    "<img src=\"figs/The scientist and engineers guide to digital signal processing - convolution.png\" width=\"800\" /> "
   ]
  },
  {
   "cell_type": "markdown",
   "id": "3243ceff-3a9c-4c82-9faf-104ccdbbc432",
   "metadata": {},
   "source": [
    "If we want to do a convolution of some input signal $f[x]$ with some response from an electric component $g[x]$ to give us a signal y[x], then the convolution in discrete space is\n",
    "\\begin{align}\n",
    "    y[x] = \\sum_{\\chi=0}^{M-1} g[\\chi] f[x-\\chi]\n",
    "\\end{align}\n",
    "where we assume that $f[x]$ is an N point signal between 0 and N and $g[x]$ runs between 0 and M. \n",
    "\n",
    "The resulting $y[x]$ has N+M-1 points (!)"
   ]
  },
  {
   "cell_type": "markdown",
   "id": "beec07d6-4e4c-432f-9496-271cf52ca3d2",
   "metadata": {},
   "source": [
    "Convolutions are computationally heavy. Luckily we can also go to frequency domain! \n",
    "\n",
    "# Properties:\n",
    "* Linearity\n",
    "\\begin{align}\n",
    "    \\alpha f[x] + \\beta g[x] \\leftrightarrow \\alpha \\tilde{f}[\\kappa] + \\beta \\tilde{g}[\\kappa] \n",
    "\\end{align}\n",
    "\n",
    "* Convolutions\n",
    "\\begin{align}\n",
    "    f[x] * g[x] \\leftrightarrow \\tilde{f}[\\kappa] \\tilde{g}'[\\kappa] \n",
    "\\end{align}\n",
    "\n"
   ]
  },
  {
   "cell_type": "markdown",
   "id": "6ad02b32-f0ea-40e4-aa4f-5d8bbc43e252",
   "metadata": {},
   "source": [
    "Instead of transforming the signal in time-domain, we can do it in frequency domain. On the other hand, multiplications in time-domain becomes convolutions in frequency-domains. This is not so nice!\n",
    "\n",
    "\n",
    "Let's assume that we want to smoothen edges: Low-pass filter. \n"
   ]
  },
  {
   "cell_type": "code",
   "execution_count": null,
   "id": "fa51a32c-4d10-4563-9b80-9eac1b164384",
   "metadata": {},
   "outputs": [],
   "source": [
    "samples = np.linspace(-5,5,10+1)\n",
    "g = -np.linspace(-5,5,10+1)**2+25\n",
    "g = -np.linspace(-10,10,20+1)**2+25\n",
    "\n",
    "g[g<0]=0\n",
    "plt.plot(g,'s'); plt.title('Low pass filter - response');plt.ylabel('Response');plt.xlabel('Sample')\n",
    "\n",
    "plt.figure()\n",
    "plt.plot(np.abs(np.fft.rfft(g)),'s-');plt.title('Low pass filter - frequency');plt.ylabel('Frequency response');plt.xlabel('Frequency sample')"
   ]
  },
  {
   "cell_type": "markdown",
   "id": "d3e178bd-b54a-44a2-b311-91b76a0e9109",
   "metadata": {},
   "source": [
    "Now we assume that we again have some sharp-edged input signal:"
   ]
  },
  {
   "cell_type": "code",
   "execution_count": null,
   "id": "cccbfd7b-df1f-4ba4-9098-38bcf9d64bf3",
   "metadata": {},
   "outputs": [],
   "source": [
    "numberOfDatapoints = 64\n",
    "\n",
    "signal = np.zeros(numberOfDatapoints)\n",
    "\n",
    "signal[15:25] = 1\n",
    "#signal[20:25] = 1\n",
    "#signal[:] = 1\n",
    "#signal[len(signal)//2]=1\n",
    "#signal[0:5]=1\n",
    "#signal[-4:]=1\n",
    "\n",
    "plt.plot(signal, '.-')\n",
    "plt.title('signal'); plt.xlabel('sample number');plt.ylabel('signal')\n",
    "\n",
    "\n",
    "\n",
    "plt.figure()\n",
    "plt.plot((np.imag(ft)**2+np.real(ft)**2)**(1/2),'.-')\n",
    "plt.title('Magnitude');plt.xlabel('Frequency sample number');plt.ylabel('amplitude')\n",
    "\n",
    "# Convolute! \n",
    "plt.figure()\n",
    "# Poor girl's convolution, we just construct a filter. \n",
    "passpoint = 9\n",
    "lowPass = 1-1/(1+np.exp(-np.linspace(1,numberOfDatapoints//2,numberOfDatapoints//2+1)+passpoint+1))\n",
    "plt.plot(lowPass,'-')\n",
    "plt.title('Low pass filter');plt.xlabel('Frequency sample number');plt.ylabel('response')\n",
    "\n",
    "plt.figure()\n",
    "plt.plot(np.abs(ft)*lowPass,'.-')\n",
    "plt.title('Low pass filtered frequency');plt.xlabel('Frequency sample number');plt.ylabel('Amplitude')\n",
    "\n",
    "plt.figure()\n",
    "plt.plot(np.fft.irfft(ft*lowPass),'.-')\n",
    "plt.title('Resulting pulse');plt.xlabel('sample number');plt.ylabel('signal')"
   ]
  },
  {
   "cell_type": "markdown",
   "id": "f3af4263-00e8-47d2-81ff-b365094c160e",
   "metadata": {},
   "source": [
    "Beware! \n",
    "\n",
    "Here we illustrate how filter-processes work.\n",
    "\n",
    "There is a bit more to it, and more considerations to take into account in reality - but for most practical purposes, this is enough!\n",
    "\n"
   ]
  },
  {
   "cell_type": "code",
   "execution_count": null,
   "id": "11f2b321-5290-49f4-a4c4-c61c7430d4bf",
   "metadata": {},
   "outputs": [],
   "source": []
  }
 ],
 "metadata": {
  "kernelspec": {
   "display_name": "Python 3 (ipykernel)",
   "language": "python",
   "name": "python3"
  },
  "language_info": {
   "codemirror_mode": {
    "name": "ipython",
    "version": 3
   },
   "file_extension": ".py",
   "mimetype": "text/x-python",
   "name": "python",
   "nbconvert_exporter": "python",
   "pygments_lexer": "ipython3",
   "version": "3.7.13"
  }
 },
 "nbformat": 4,
 "nbformat_minor": 5
}
