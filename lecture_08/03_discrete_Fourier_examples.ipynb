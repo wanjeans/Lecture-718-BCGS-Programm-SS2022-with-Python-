{
 "cells": [
  {
   "cell_type": "markdown",
   "id": "d11a3541-f9e9-4373-8d92-f67b595444ff",
   "metadata": {},
   "source": [
    "# Let's do more examples!\n",
    "First in one dimension"
   ]
  },
  {
   "cell_type": "code",
   "execution_count": null,
   "id": "edaefde7-7eeb-403b-adb7-45af4e00d2bb",
   "metadata": {},
   "outputs": [],
   "source": [
    "# The usual!\n",
    "import numpy as np\n",
    "import matplotlib.pyplot as plt # For plotting\n",
    "import pandas as pd # For loading and handling data\n",
    "# all plots should appear directly within the notebook\n",
    "%matplotlib inline\n",
    "\n",
    "import PIL"
   ]
  },
  {
   "cell_type": "markdown",
   "id": "aa28e2fd-afc6-4af6-8859-6e65cf7747e8",
   "metadata": {},
   "source": [
    "Load some signal - this is an audio signal."
   ]
  },
  {
   "cell_type": "code",
   "execution_count": null,
   "id": "08ac0024-6f6c-4564-892f-cee33802150e",
   "metadata": {},
   "outputs": [],
   "source": [
    "# Load data\n",
    "data = pd.read_csv('data/Audio data.csv', delimiter=';')\n",
    "#data = pd.read_csv('Audio data pure a.csv')\n",
    "\n",
    "# Assign headers as labels\n",
    "labels = data.keys()\n",
    "\n",
    "# Use the labels to extract data\n",
    "t = np.array(data[labels[0]])\n",
    "recording = np.array(data[labels[1]])\n",
    "\n",
    "# Plot the data\n",
    "plt.plot(t, recording)\n",
    "plt.xlabel(labels[0]);plt.ylabel(labels[1]);plt.title('Full audio signal')\n",
    "\n",
    "plt.figure()\n",
    "plt.plot(t[(t<10)], recording[t<10])\n",
    "plt.xlabel(labels[0]);plt.ylabel(labels[1]);plt.title('Audio signal - first 10 ms')\n",
    "\n",
    "#frequencies\n",
    "frequency = np.linspace(1,1/(t[1]-t[0])/2*1e3,len(t)//2+1)\n",
    "ft = np.fft.rfft(recording)\n",
    "\n",
    "plt.figure()\n",
    "plt.plot(frequency,np.abs(ft))\n",
    "plt.xlabel('frequency, Hz');plt.ylabel('magnitude (a.u.)');plt.title('Freqeuency spectrum')\n",
    "#plt.xlim(200,500)\n",
    "\n",
    "#frequencies again, but with a cut!\n",
    "frequency = np.linspace(1,1/(t[1]-t[0])/2*1e3,len(t[t<350])//2+1)\n",
    "ft = np.fft.rfft(recording[t<350])\n",
    "\n",
    "plt.figure()\n",
    "plt.plot(frequency,np.abs(ft))\n",
    "plt.xlim(200,500)\n",
    "plt.xlabel('frequency, Hz');plt.ylabel('magnitude (a.u.)');plt.title('Freqeuency spectrum')\n",
    "#plt.plot(np.arctan(np.imag(ft)/(np.real(ft)+0.00000000001)))"
   ]
  },
  {
   "cell_type": "markdown",
   "id": "33d4f55e-d2eb-400f-83d2-3feb4b0c8775",
   "metadata": {},
   "source": [
    "# And in two dimensions\n",
    "\n",
    "The two-dimensional Fourier transform - completely analogous to the one-dimensional: \n",
    "\\begin{align}\n",
    "    F[m,n] = \\frac{1}{MN}\\sum_{x=0}^{M-1}\\sum_{y=0}^{N-1}f[x,y]\\exp\\left(-2i\\pi (xm/M + yn/N)\\right)\n",
    "\\end{align}\n",
    "and\n",
    "\\begin{align}\n",
    "    f[m,n] = MN\\sum_{m=0}^{M-1}\\sum_{n=0}^{N-1} F[m,n]\\exp\\left(2i\\pi (xm/M + yn/N)\\right)\n",
    "\\end{align}\n",
    "Pay attention! Here we normalize as it is done already in Python. \n",
    "\n",
    "I will suggest that you use \n",
    "[```numpy.fft.fft2```](https://numpy.org/doc/stable/reference/generated/numpy.fft.rfft2.html#numpy.fft.fft2) in combination with \n",
    "[```numpy.fft.fftshift```](https://numpy.org/doc/stable/reference/generated/numpy.fft.rfft2.html#numpy.fft.fftshift).\n",
    "\n"
   ]
  },
  {
   "cell_type": "markdown",
   "id": "bf824087-0368-476a-870b-a1700b234699",
   "metadata": {},
   "source": [
    "Let's see some examples."
   ]
  },
  {
   "cell_type": "code",
   "execution_count": null,
   "id": "61cf3a0c-30aa-4739-834a-e3b1303dade0",
   "metadata": {},
   "outputs": [],
   "source": [
    "gridpoints = 32\n",
    "coordinates = np.linspace(0.0, 1.0, gridpoints)\n",
    "X,Y = np.meshgrid(coordinates-0.5,coordinates-0.5)\n",
    "#np.fft.rfft2(data)"
   ]
  },
  {
   "cell_type": "code",
   "execution_count": null,
   "id": "5e76bd3b-8ff7-451b-9f5d-d8e60bb4aca4",
   "metadata": {},
   "outputs": [],
   "source": [
    "data = np.sin(X*1.2*2*np.pi)\n",
    "data = 1*[(X>0.2)&(X<0.5)][0]\n",
    "#data[10,:] = np.sin(X[10,:]*4*np.pi)*2\n",
    "#data = np.sin(X*2*np.pi+6*Y*2*np.pi)\n",
    "plt.imshow(data)\n",
    "\n",
    "plt.xlabel('Sample of 1st axis')\n",
    "plt.ylabel('Sample sample of 2nd axis')"
   ]
  },
  {
   "cell_type": "code",
   "execution_count": null,
   "id": "0175ab6a-5b35-48e4-92e0-ece516cbf520",
   "metadata": {},
   "outputs": [],
   "source": [
    "print(data.shape)\n",
    "ft = np.fft.rfft2(data)\n",
    "\n",
    "plt.imshow(np.abs(np.fft.rfft2(data)))\n",
    "                                     \n",
    "plt.imshow(np.abs(np.fft.rfft2(data)[:ft.shape[0]//2+1,:]))\n",
    "#plt.imshow(np.log(np.abs(np.fft.rfft2(data)[:ft.shape[0]//2+1,:])))\n",
    "plt.xlabel('Frequency sample of 1st axis')\n",
    "plt.ylabel('Frequency sample of 2nd axis')"
   ]
  },
  {
   "cell_type": "code",
   "execution_count": null,
   "id": "b2f30aef-d5d3-4607-967b-53adf9f27f65",
   "metadata": {},
   "outputs": [],
   "source": [
    "np.fft.rfft2(data).shape"
   ]
  },
  {
   "cell_type": "markdown",
   "id": "e26519fb-4f63-496a-bf24-e25a254439d8",
   "metadata": {},
   "source": [
    "# Apply filters in two-dimensions"
   ]
  },
  {
   "cell_type": "code",
   "execution_count": null,
   "id": "75c1d170-b37c-48da-bad0-5b0530f8f4ba",
   "metadata": {},
   "outputs": [],
   "source": [
    "image1 = np.array(PIL.Image.open('figs/sinle_photon_interferometer.jpg'))\n",
    "plt.figure(figsize=(8,8))\n",
    "plt.imshow(image1)\n",
    "\n",
    "imageShape = image1.shape\n",
    "print(imageShape)\n",
    "plt.figure(figsize=(8,8))\n",
    "plt.imshow(image1[:,:,0])\n",
    "\n",
    "plt.figure(figsize=(8,8))\n",
    "plt.imshow(np.mean(image1, axis=-1))#, cmap = 'gray')\n",
    "\n",
    "image1BW = np.mean(image1, axis=-1)"
   ]
  },
  {
   "cell_type": "markdown",
   "id": "21abfa4a-7be9-474c-ad9d-97b6c8cea48b",
   "metadata": {},
   "source": [
    "Now we want to apply some filter.\n",
    "\n",
    "Note that we have the same number of samples per unit-length for the two dimensions. "
   ]
  },
  {
   "cell_type": "code",
   "execution_count": null,
   "id": "0eeb6461-0f4a-4263-9e25-7e739c5dfc8a",
   "metadata": {},
   "outputs": [],
   "source": [
    "y = np.linspace( 0, imageShape[0]/(imageShape[0]), imageShape[0]) -0.5     # columns (Width)\n",
    "x = np.linspace( 0, imageShape[1]/(imageShape[1]), imageShape[1]) -0.5\n",
    "\n",
    "X,Y = np.meshgrid(x,y)\n",
    "\n",
    "ft = np.fft.fftshift(np.fft.fft2(image1BW))\n",
    "\n",
    "plt.imshow((np.abs(ft)))\n",
    "plt.imshow(np.log(np.abs(ft)))"
   ]
  },
  {
   "cell_type": "code",
   "execution_count": null,
   "id": "f02f927e-fdee-437c-8b36-a46a79643f8e",
   "metadata": {},
   "outputs": [],
   "source": [
    "highPassFilter = (X**2+Y**2)>0.05\n",
    "plt.imshow(highPassFilter)\n",
    "\n"
   ]
  },
  {
   "cell_type": "code",
   "execution_count": null,
   "id": "e706987d-981d-4a4a-ba94-042bef21dc9b",
   "metadata": {},
   "outputs": [],
   "source": [
    "plt.figure(figsize=(10,10))\n",
    "plt.imshow(np.abs(np.fft.ifft2(highPassFilter*ft)))"
   ]
  },
  {
   "cell_type": "markdown",
   "id": "2873a040-f3ff-4d8b-b411-fc20f4e12970",
   "metadata": {},
   "source": [
    "To summarize:\n",
    "\n",
    "* We have seen how to do discrete Fourier transforms in python\n",
    "    * 'forwards' and 'backwards'\n",
    "    * In one and two dimensions\n",
    "* We have seen that Fourier transforms give access to crucial information from time-series\n",
    "* We have seen how we can manipulate the frequency components of a signal and thereby the signal itself\n",
    "\n",
    "We have NOT talked about:\n",
    "* The periodicity of Fourier transforms - there are some boundary conditions which are important to consider\n",
    "* What the difference between the real and the complex Fourier transform actually is\n",
    "* How the fast Fourier transform works. \n",
    "* ...\n",
    "\n"
   ]
  },
  {
   "cell_type": "markdown",
   "id": "5d197ff9-4bdf-43e6-aa3f-dc0491299300",
   "metadata": {},
   "source": [
    "\n",
    "# Final important point: Power in the frequency components\n",
    "Let's return to one dimension again"
   ]
  },
  {
   "cell_type": "code",
   "execution_count": null,
   "id": "46911ca6-80b0-4d8c-b3a8-f2ea3e35da18",
   "metadata": {},
   "outputs": [],
   "source": [
    "# Load data\n",
    "data = pd.read_csv('data/Raw Data.csv')\n",
    "#data = pd.read_csv('Audio data pure a.csv')\n",
    "\n",
    "# Assign headers as labels\n",
    "labels = data.keys()\n",
    "\n",
    "# Use the labels to extract data\n",
    "times = np.array(data[labels[0]])\n",
    "\n",
    "# Plot the data\n",
    "for label in labels[1:-1]:\n",
    "    plt.plot(times, data[label], label=label)\n",
    "    #plt.plot(times[(times<55)&(times>30)], data[label][(times<55)&(times>30)], label=label)\n",
    "plt.xlabel(labels[0]);plt.ylabel('Acceleration (m/s$^2$)');plt.title('Full acceleration signal')\n",
    "plt.legend()\n",
    "\n",
    "plt.figure()\n",
    "plt.plot(times[(times<55)&(times>31)], data[labels[3]][(times<55)&(times>31)], label=label)\n",
    "plt.xlabel(labels[0]);plt.ylabel(labels[3]);plt.title('Full acceleration signal')\n",
    "\n",
    "plt.figure()\n",
    "plt.plot(times[(times<35)&(times>31)], data[labels[3]][(times<35)&(times>31)], label=label)\n",
    "plt.xlabel(labels[0]);plt.ylabel(labels[3]);plt.title('Full acceleration signal')\n",
    "\n",
    "#frequencies\n",
    "t = times[(times<55)&(times>31)]\n",
    "frequency = np.linspace(0,1/(t[1]-t[0])/2,len(t)//2+1)\n",
    "ft = np.fft.rfft(data[labels[3]][(times<55)&(times>31)]- np.mean(data[labels[3]][(times<55)&(times>30)]))\n",
    "\n",
    "plt.figure()\n",
    "plt.plot(frequency,(np.abs(ft)))\n",
    "plt.xlabel('frequency, Hz');plt.ylabel('magnitude (a.u.)');plt.title('Freqeuency spectrum')\n",
    "plt.xlim(0,10)\n",
    "\n",
    "plt.figure()\n",
    "plt.plot(frequency,np.abs(ft)**2)\n",
    "plt.xlabel('frequency, Hz');plt.ylabel('Power (a.u.)');plt.title('Freqeuency spectrum')\n",
    "plt.xlim(0,10)\n",
    "#plt.plot(np.arctan(np.imag(ft)/(np.real(ft)+0.00000000001)))"
   ]
  },
  {
   "cell_type": "code",
   "execution_count": null,
   "id": "ef06f6ba-b965-4828-8808-926f94255c6e",
   "metadata": {},
   "outputs": [],
   "source": []
  },
  {
   "cell_type": "code",
   "execution_count": null,
   "id": "b51b0e01-2c0c-46fa-9b52-b10ab55d6555",
   "metadata": {},
   "outputs": [],
   "source": []
  }
 ],
 "metadata": {
  "kernelspec": {
   "display_name": "Python 3 (ipykernel)",
   "language": "python",
   "name": "python3"
  },
  "language_info": {
   "codemirror_mode": {
    "name": "ipython",
    "version": 3
   },
   "file_extension": ".py",
   "mimetype": "text/x-python",
   "name": "python",
   "nbconvert_exporter": "python",
   "pygments_lexer": "ipython3",
   "version": "3.7.13"
  }
 },
 "nbformat": 4,
 "nbformat_minor": 5
}
