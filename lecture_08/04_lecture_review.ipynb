{
 "cells": [
  {
   "cell_type": "markdown",
   "id": "bb6186cb-433a-41ea-9025-c9f76d4e0e1c",
   "metadata": {
    "tags": []
   },
   "source": [
    "# Review Tasks for the lecture"
   ]
  },
  {
   "cell_type": "markdown",
   "id": "1d0f362c-e583-40f3-99f6-f54c5440740b",
   "metadata": {},
   "source": [
    "Here some small tasks with that you should be able to do directly after the lecture. I strongly advise you to look at them before the exercise. It gives you the opportunity to check what you did not yet understand and to ask your tutor in the case of problems."
   ]
  },
  {
   "cell_type": "markdown",
   "id": "4ec36c84-5c1e-48f3-889b-495018ceadaf",
   "metadata": {},
   "source": [
    "## Review tasks on the one-dimensional Fourier transform, transforming back and forth"
   ]
  },
  {
   "cell_type": "markdown",
   "id": "edc2cab3-1bd6-455b-8800-ddfb4456a535",
   "metadata": {},
   "source": [
    "Given the fourier transform below, write a sum which uses the normalization rules to recover the signal. \n",
    "\n",
    "You can use a for-loop to go through all the different frequencies."
   ]
  },
  {
   "cell_type": "code",
   "execution_count": 2,
   "id": "f542232e-2db6-4604-a52b-472bd43c9c0a",
   "metadata": {},
   "outputs": [
    {
     "data": {
      "text/plain": [
       "[<matplotlib.lines.Line2D at 0x28d6eba2608>]"
      ]
     },
     "execution_count": 2,
     "metadata": {},
     "output_type": "execute_result"
    },
    {
     "data": {
      "image/png": "[encoded data removed]",
      "text/plain": [
       "<Figure size 432x288 with 1 Axes>"
      ]
     },
     "metadata": {
      "needs_background": "light"
     },
     "output_type": "display_data"
    }
   ],
   "source": [
    "import numpy as np\n",
    "import matplotlib.pyplot as plt \n",
    "\n",
    "numberOfDatapoints = 32\n",
    "\n",
    "sampleNumber = np.arange(0,numberOfDatapoints)\n",
    "plotPoints = np.linspace(0,numberOfDatapoints,256)\n",
    "\n",
    "signal = np.cos(sampleNumber*5/(4*np.pi)) + 0.2\n",
    "ft=np.fft.rfft(signal,norm=None)\n",
    "plt.plot(signal,'.r')\n",
    "\n",
    "# Define the necessary variables here:\n",
    "\n",
    "\n",
    "# Sum over the different component\n",
    "#signalRecovered = #+ ....  Your sum here \n",
    "\n",
    "# Plot the recovered signal\n",
    "#plt.plot(signalRecovered,'*b')"
   ]
  },
  {
   "cell_type": "markdown",
   "id": "4ed32330-53b0-4e4a-9694-ca780a8fc0f9",
   "metadata": {},
   "source": [
    "In the lecture we discussed how we can calculate the phase with either\n",
    "\n",
    "```arctan(np.imag(ft)/np.real(ft))```\n",
    "```arctan2(np.imag(ft),np.real(ft))```\n",
    "(corrected for np.real(ft) very small) or\n",
    "```np.angle(ft)```.\n",
    "\n",
    "What is the difference between ```arctan``` and ```arctan2```? \n",
    "\n",
    "\n",
    "***Hint:*** What values can ```arctan``` and ```arctan2``` return? What happens if the real or imaginary parts change sign?\n"
   ]
  },
  {
   "cell_type": "markdown",
   "id": "1eea2294-71c3-4f61-a999-2a7621ee31e1",
   "metadata": {},
   "source": [
    "## Review tasks on the two-dimensional Fourier transform"
   ]
  },
  {
   "cell_type": "markdown",
   "id": "171299e5-1a4c-4838-8bbb-a6c6a4ea4c18",
   "metadata": {},
   "source": [
    "Load the file secretMessage.npy. This contains the imaginary and real components of the Fourier transform.\n",
    "\n",
    "When fftshift is used, the imaginary and real component look like this:\n",
    "\n",
    "\n",
    "<img src=\"figs/secretsecret.PNG\" width=\"600\" />\n",
    "\n",
    "Use the inverse Fourier transform to read the secret message.\n",
    "\n",
    "Use a low-pass filter to blur the image.\n",
    "\n",
    "Create your own image - for instance using paint or your favorite internet picture - and send the transform to one of your team-mates."
   ]
  },
  {
   "cell_type": "code",
   "execution_count": null,
   "id": "3afc5598-f139-4568-a7d3-e38f5dad6f54",
   "metadata": {},
   "outputs": [],
   "source": []
  }
 ],
 "metadata": {
  "kernelspec": {
   "display_name": "Python 3 (ipykernel)",
   "language": "python",
   "name": "python3"
  },
  "language_info": {
   "codemirror_mode": {
    "name": "ipython",
    "version": 3
   },
   "file_extension": ".py",
   "mimetype": "text/x-python",
   "name": "python",
   "nbconvert_exporter": "python",
   "pygments_lexer": "ipython3",
   "version": "3.7.13"
  }
 },
 "nbformat": 4,
 "nbformat_minor": 5
}
