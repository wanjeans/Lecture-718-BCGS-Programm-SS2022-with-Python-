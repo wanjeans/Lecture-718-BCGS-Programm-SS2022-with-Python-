{
 "cells": [
  {
   "cell_type": "markdown",
   "id": "856d7963-2b04-4046-9b6f-735d216eeec8",
   "metadata": {},
   "source": [
    "# Project 3 - Frequency analysis on floating wind turbine\n",
    "\n"
   ]
  },
  {
   "cell_type": "markdown",
   "id": "6eef3fe2-04be-456f-be08-53457e6d75a0",
   "metadata": {
    "tags": []
   },
   "source": [
    "**Project deadline:** This project is due for submission on Wednesday, 16.06.2022, 23:55. Please check carefully the *About the Projects* section below for further details.\n",
    "Because of the holidays from 07.06.-10.06., you have three weeks to work on this project. "
   ]
  },
  {
   "cell_type": "markdown",
   "id": "489f3aae-0a6f-4e73-9bbf-50beee2d5b65",
   "metadata": {},
   "source": [
    "**Important:** You have the choice between two projects. This project is a follow up on the lecture on Fourier transforms and how we can use this technique to analyze physical objects and solve such problems. The other project brings the word-game from project2 to a new level. We strongly advise you to read through both project notebooks completely before you take a decision."
   ]
  },
  {
   "cell_type": "markdown",
   "id": "395ad8d3-6c77-43fa-bde6-907d8d691df0",
   "metadata": {},
   "source": [
    "**Remark:** This project is stand-alone and you also can work on it if you *did not* work on the Wind turbine in project1. "
   ]
  },
  {
   "cell_type": "markdown",
   "id": "d9894695-d72f-4d22-9ca9-b7cc9ea28037",
   "metadata": {},
   "source": [
    "**Hand in:** Please continue this notebook and hand this in as .ipynb file at [Projects/Project 3](https://ecampus.uni-bonn.de/goto_ecampus_exc_2645968.html)."
   ]
  },
  {
   "cell_type": "markdown",
   "id": "9c593379-1e66-41a4-9558-09ed6c955aaf",
   "metadata": {},
   "source": [
    "## Your name here:"
   ]
  },
  {
   "cell_type": "markdown",
   "id": "bc7a6f0b-72e3-47da-8f1a-1dbecf85b21e",
   "metadata": {},
   "source": [
    "# Floating wind turbines\n",
    "Currently, the demand for renewable energy is very high. Wind turbines are very successful sources of renewable energy, and many states are planning new wind farms to increase the fraction of green energy in the overall consumption. Despite the high demand, it is difficult to establish large new onshore (land-based) wind farms due to space limitations: Attention has to be paid to landscape and neighbors.\n",
    "\n",
    "The same constraints do not limit offshore wind farms. However, a conventional offshore wind turbine has a foundation which stands on the seafloor. The foundations are limited to a certain water depth, since the price and complexity of the foundation scales unfavorably with depth. According to Wikipedia, fixed foundations can be installed at water depth up to around 50 m.\n",
    "\n",
    "This depth constraint limits the possible wind farm locations to a moderate number of areas in the world where the ocean floor falls off relatively flatly away from the shore. \n",
    "\n",
    "Therefore, floating foundations are now being developed by many companies.\n",
    "\n",
    "While floating wind turbine foundations may solve many problems related to installation of offshore wind, the technologies are still being tested. \n",
    "\n",
    "In this project you will work with simulated operational data for a floating foundation fitted with a 15 MW wind turbine. At the present time the average size of offshore wind turbines is on the order of 8 MW, but wind turbines in producing in the range of 15-20 MW are being pursued by many of the manufacturing companies. \n",
    "\n",
    "\n",
    "### This project\n",
    "In this project, we will again consider the dataset we used in the last project. \n",
    "The data are simulations of a floating 15 MW offshore turbine. The dataset we used in the previous project is for the 50-year event, an extreme storm which occurs very rarely, on time-scales of 50 years. Under such conditions, the rotor blades are turned such that act as aerodynamic they brakes, and the rotor is only turning at a very slow speed.\n",
    "\n",
    "In the previous project, we studied the time-domain of this dataset,  i.e. the data presented as values as a function of time. We will now study the data in the frequency domain, i.e. the frequency components of this dataset.\n",
    "\n"
   ]
  },
  {
   "cell_type": "markdown",
   "id": "fcfb9d2f-b6cc-4e89-bce4-52555488f6e2",
   "metadata": {},
   "source": [
    "The data contains the values shown in this figure as a function of time. \n",
    "\n",
    "<img src=\"figs/windTurbinePicture1.png\" width=\"600\" />\n",
    "\n",
    "\n",
    "\n",
    "\n"
   ]
  },
  {
   "cell_type": "markdown",
   "id": "85b89ad3-ac2d-45c3-9987-3f0865943203",
   "metadata": {},
   "source": [
    "## Necessary Python packages"
   ]
  },
  {
   "cell_type": "code",
   "execution_count": null,
   "id": "4b17613b-abdf-4637-aa5f-fef0aa4187e9",
   "metadata": {},
   "outputs": [],
   "source": [
    "# Here we import the same modules as in the last version of this project.\n",
    "%matplotlib inline\n",
    "import matplotlib.pyplot as plt\n",
    "import seaborn as sns\n",
    "sns.set_style(\"whitegrid\")\n",
    "\n",
    "import pandas as pd\n",
    "import numpy as np\n",
    "\n",
    "\n",
    "filename = \"data/Orcaflex Simulation, 15 MW wind turbine.csv\"\n",
    "\n",
    "# This one is new, consider what it does. \n",
    "units = [pd.read_csv(filename, delimiter = ';', header=2)[key][0] for key in pd.read_csv(filename, delimiter = ';', header=2).keys()]\n",
    "\n",
    "# We load and save the data.\n",
    "data = pd.read_csv(filename, delimiter = ';', header=2, skiprows=[3])"
   ]
  },
  {
   "cell_type": "markdown",
   "id": "b0d6d78a-bbfd-4f17-aa08-0d274877da29",
   "metadata": {},
   "source": [
    "From last time we already The data set contains\n",
    "* Time in s\n",
    "* Wind speed in m/s\n",
    "* Sea surface offset from 'flat water' conditions in m. This is the wave height\n",
    "* Mooring force in kN. This is the force on the anchor lines  \n",
    "* Tilt in degrees\n",
    "* Nacelle acceleration in m/s$^2$. The nacelle is the 'house' on top of the turbine where the rotor is attached\n",
    "* Tower moment in kN m. This is the torque on from the tower moving with respect to the foundation.  \n",
    "\n",
    "We make arrays out of the different columns. "
   ]
  },
  {
   "cell_type": "code",
   "execution_count": null,
   "id": "643ed074-5f98-4d6e-836b-c0637e8c9b02",
   "metadata": {},
   "outputs": [],
   "source": [
    "t = np.array(data['Time']) \n",
    "seaSurface = np.array(data['Sea surface'])\n",
    "tilt = np.array(data['Tilt'])\n",
    "mooring = np.array(data['Mooring force'])\n",
    "nacAcc = np.array(data['Nac. acc.'])\n",
    "towerMom = np.array(data['Tower mom.'])\n",
    "windSpeed = np.array(data['Wind speed'])\n"
   ]
  },
  {
   "cell_type": "markdown",
   "id": "c55cd2eb-edf5-4ece-afce-ba7fcd83e56a",
   "metadata": {},
   "source": [
    "In the previous project we considered the behavior of the wind turbine in time-domain. Now we will consider it in frequency domain."
   ]
  },
  {
   "cell_type": "markdown",
   "id": "a24b5369-1e4c-45d1-8c5d-a85ef5c64d30",
   "metadata": {},
   "source": [
    "# Your tasks"
   ]
  },
  {
   "cell_type": "markdown",
   "id": "5f80c7d5-195c-4b10-9d9e-523a1b3d1dce",
   "metadata": {},
   "source": [
    "To solve this project, you should answer the following questions below. \n",
    "\n",
    "Remember to choose meaningful x-axes for your plot, as you will that most information is contained at low frequencies. Please also consider when it makes sense to do logarithmic plots.\n",
    "   \n",
    "### 1) Fourier transform your variables\n",
    "Use the numpy real fast fourier transform, np.fft.rfft, on the data, and plot the frequency magnitudes for the different datasets. \n",
    "\n",
    "What frequency in the sea surface spectrum has the highest amplitude? What period does this correspond to?\n",
    "\n",
    "In the previous project we found a strong correlation between the acceleration of the nacelle and the tower moment, following from Newton's 2nd law describing how rotational acceleration translate into a force. Do you also see this in the frequencies?\n"
   ]
  },
  {
   "cell_type": "markdown",
   "id": "60ee8b7e-a61d-49b9-9423-ea0af736131d",
   "metadata": {},
   "source": [
    "### 2) Average the Fourier transform\n",
    "The spectra you plotted in the previous exercise are very noisy.\n",
    "\n",
    "Write a function which can do an averaged Fourier transform: \n",
    "* Snip your time-series into $n$ bits\n",
    "* Make a Fourier transform of each of the bits\n",
    "* Mean over the resulting Fourier transforms.\n",
    "\n",
    "By taking a long time-series, you can get a high frequency resolution. However, the noise level does not change as you measure longer. \n",
    "Therefore, by cutting the time series in smaller bits and averaging over the Fourier Transformed signals, we lose frequency resolution, but suppress noise. \n",
    "\n",
    "Your function should return the frequencies and the Fourier transform values. \n",
    "\n",
    "\n",
    "What happens to the maximal frequency we can measure when we slice the time series into bits?\n",
    "\n",
    "Test your new function on a 8192-point long signal \n",
    "\\begin{align}\n",
    "s(x) = \\sum_{f_i} \\cos(2\\pi f_i x )+\\epsilon\n",
    "\\end{align}\n",
    "for some $x$ with a few frequencies $f_i$ or your choice (start with one frequency component and test it with up to 10 different $f_i$s) and with additional noise $\\epsilon$ drawn from a Gaussian distribution around zero. Take a look at the [numpy.random.normal](https://numpy.org/doc/stable/reference/random/generated/numpy.random.normal.html)-module to learn how to add Gaussian noise. Observe that you limit noise by averaging.\n",
    "\n",
    "\n",
    "Does the frequency in the sea surface spectrum with the highest amplitude change much when $n=2,4,8,...$?\n",
    "\n",
    "\n",
    "We observe two frequency components in the tower moment. One of the frequency components are caused by the turbine eigenfrequency. Which one, and what causes the other one? Compare to the frequency spectra of the other parameters. \n",
    "\n",
    "What period does this frequency correspond to?\n",
    "\n"
   ]
  },
  {
   "cell_type": "markdown",
   "id": "f06c0283-76ba-40bc-a46a-3ab0b5c23835",
   "metadata": {},
   "source": [
    "### 3) Where is the energy?\n",
    "We have observed that many of the turbine-components oscillate with two frequencies. The energy of a frequency component scales as the square of the frequency amplitude. \n",
    "\n",
    "Make a plot which shows the normalized cumulative energy of the mooring - you can use np.cumsum to calculate the cumulative sum. \n",
    "Remember to omit the 0th point of the amplitudes. \n",
    "\n",
    "What frequency component carries most energy? \n"
   ]
  },
  {
   "cell_type": "markdown",
   "id": "ab5c4df5-0407-4511-b5ea-cd6240dd8ded",
   "metadata": {},
   "source": [
    "### 4) Creating waves\n",
    "So far we studied the frequency spectrum of a simulation of a wind turbine subject to a 50-year storm. For such a simulation, the time series for the waves are calculated by taking a known frequency spectrum of waves and transforming these frequencies into sinusoidals which are added together. \n",
    "\n",
    "This spectrum is usually drawn from what is called a [JONSWAP-spectrum](https://wikiwaves.org/Ocean-Wave_Spectra). \n",
    "\n",
    "In this case, we model the wave-spectrum with a JONSWAP-like spectrum, resulting in a Fourier transform magnitude\n",
    "\\begin{align}\n",
    "    M(f) = \\frac{10^{-7} \\,\\mbox{Hz}^4 }{f^5}\\exp\\left(-\\frac{3}{4}\\left(\\frac{f_0}{f}\\right)^4\\right)\\cdot (N+1)/2\n",
    "\\end{align}\n",
    "where $f$ is the frequency, $f_0$ is the peak frequency, and the constants contain the physical parameter: The wind-speed which gave rise to these waves, the gravitational acceleration, and the drag of the wind on the sea surface. We have already normalized the magnitude by the length of the frequency axis, $N$.\n",
    "\n",
    "Use your averaging function to plot the frequency spectrum of the actual sea surface. Does this have the same feature as the function $M(f)$? \n",
    "\n",
    "Use the inverse fast Fourier transform [np.fft.irfft](https://numpy.org/doc/stable/reference/generated/numpy.fft.irfft.html) on $M(f)$ to create a time series and plot it. This should not look nice - what is going on?\n",
    "\n",
    "\n",
    "To get a realistic wave-pattern, we also need a phase-component. Create an array of the same length as $M(f)$ with phases drawn from an uniform distribution. \n",
    "You can calculate the real and imaginary amplitudes of the Fourier transform from the magnitude and angle by\n",
    "\\begin{align}\n",
    "    RE\\,X + i \\, IM\\,X = M(X)e^{i \\phi(X)}.\n",
    "\\end{align}\n",
    "Calculate the inverse Fourier transform of your new Fourier spectrum, and compare the calculated waves with the actual waves we expect. How does the wave heights compare? \n",
    "\n",
    "\n",
    "\n",
    "For real simulations, a number of wave-spectra are generated with different random number generator seeds. Then an appropriate wave series is chosen based on the properties such as highest and lowest waves. \n",
    "Generate three different random phase arrays. Use these three to calculate three wave time-series. How different are the maximum and minimum value of the waves?\n",
    "\n"
   ]
  },
  {
   "cell_type": "code",
   "execution_count": null,
   "id": "81863edb-6cf0-49ba-9903-04964147c43f",
   "metadata": {},
   "outputs": [],
   "source": [
    "# Your solution begins here"
   ]
  },
  {
   "cell_type": "markdown",
   "id": "686d8200-1d03-45a3-b86e-c467dc6662f4",
   "metadata": {},
   "source": [
    "**More considerations**\n",
    "\n",
    "These questions are 'bonus questions'. You should not feel obliged to do them at all, and you can also obtain bonus points via good discussion of the previous points.\n",
    "\n",
    "If we plot the frequency components of the storm wind-speed, we observe that above a certain threshold no more frequencies appear. This is an artefact of the simulations - but it is also a physically valid assumption that we can ignore the high frequency components of the wind speed. Why?\n",
    "\n",
    "In task 2 we asked you to mean over the signal in frequency domain. Would it make sense to mean in time-domain and Fourier transform this mean?\n",
    "\n",
    "Could we also mean in a different way?"
   ]
  }
 ],
 "metadata": {
  "kernelspec": {
   "display_name": "Python 3 (ipykernel)",
   "language": "python",
   "name": "python3"
  },
  "language_info": {
   "codemirror_mode": {
    "name": "ipython",
    "version": 3
   },
   "file_extension": ".py",
   "mimetype": "text/x-python",
   "name": "python",
   "nbconvert_exporter": "python",
   "pygments_lexer": "ipython3",
   "version": "3.7.13"
  }
 },
 "nbformat": 4,
 "nbformat_minor": 5
}
